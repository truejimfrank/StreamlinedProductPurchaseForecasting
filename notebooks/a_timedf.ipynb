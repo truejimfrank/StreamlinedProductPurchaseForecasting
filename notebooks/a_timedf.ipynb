{
 "cells": [
  {
   "cell_type": "code",
   "execution_count": 25,
   "metadata": {},
   "outputs": [],
   "source": [
    "import pandas as pd\n",
    "import numpy as np\n",
    "import matplotlib.pyplot as plt\n",
    "import matplotlib\n",
    "import datetime\n",
    "# from fbprophet import Prophet"
   ]
  },
  {
   "cell_type": "code",
   "execution_count": 2,
   "metadata": {},
   "outputs": [
    {
     "name": "stdout",
     "output_type": "stream",
     "text": [
      "<class 'pandas.core.frame.DataFrame'>\n",
      "RangeIndex: 2756101 entries, 0 to 2756100\n",
      "Data columns (total 5 columns):\n",
      " #   Column         Dtype  \n",
      "---  ------         -----  \n",
      " 0   timestamp      int64  \n",
      " 1   visitorid      int64  \n",
      " 2   event          object \n",
      " 3   itemid         int64  \n",
      " 4   transactionid  float64\n",
      "dtypes: float64(1), int64(3), object(1)\n",
      "memory usage: 105.1+ MB\n"
     ]
    }
   ],
   "source": [
    "dfevents = pd.read_csv('../../data/ecommerce/events.csv')\n",
    "dfevents.info()"
   ]
  },
  {
   "cell_type": "code",
   "execution_count": 3,
   "metadata": {},
   "outputs": [],
   "source": [
    "def unix_time_convert(df):\n",
    "    times=[]  # convert from unix time format\n",
    "    for i in df['timestamp']:\n",
    "        times.append(datetime.datetime.fromtimestamp(i//1000.0))\n",
    "    df['timestamp']=times\n",
    "    return df"
   ]
  },
  {
   "cell_type": "code",
   "execution_count": 4,
   "metadata": {},
   "outputs": [
    {
     "name": "stdout",
     "output_type": "stream",
     "text": [
      "<class 'pandas.core.frame.DataFrame'>\n",
      "RangeIndex: 2756101 entries, 0 to 2756100\n",
      "Data columns (total 5 columns):\n",
      " #   Column         Dtype         \n",
      "---  ------         -----         \n",
      " 0   timestamp      datetime64[ns]\n",
      " 1   visitorid      int64         \n",
      " 2   event          object        \n",
      " 3   itemid         int64         \n",
      " 4   transactionid  float64       \n",
      "dtypes: datetime64[ns](1), float64(1), int64(2), object(1)\n",
      "memory usage: 105.1+ MB\n"
     ]
    }
   ],
   "source": [
    "dfevents = unix_time_convert(dfevents)\n",
    "dfevents.info()"
   ]
  },
  {
   "cell_type": "code",
   "execution_count": 5,
   "metadata": {},
   "outputs": [
    {
     "data": {
      "text/html": [
       "<div>\n",
       "<style scoped>\n",
       "    .dataframe tbody tr th:only-of-type {\n",
       "        vertical-align: middle;\n",
       "    }\n",
       "\n",
       "    .dataframe tbody tr th {\n",
       "        vertical-align: top;\n",
       "    }\n",
       "\n",
       "    .dataframe thead th {\n",
       "        text-align: right;\n",
       "    }\n",
       "</style>\n",
       "<table border=\"1\" class=\"dataframe\">\n",
       "  <thead>\n",
       "    <tr style=\"text-align: right;\">\n",
       "      <th></th>\n",
       "      <th>timestamp</th>\n",
       "      <th>visitorid</th>\n",
       "      <th>event</th>\n",
       "      <th>itemid</th>\n",
       "      <th>transactionid</th>\n",
       "    </tr>\n",
       "  </thead>\n",
       "  <tbody>\n",
       "    <tr>\n",
       "      <th>1462974</th>\n",
       "      <td>2015-05-02 21:00:04</td>\n",
       "      <td>693516</td>\n",
       "      <td>addtocart</td>\n",
       "      <td>297662</td>\n",
       "      <td>NaN</td>\n",
       "    </tr>\n",
       "    <tr>\n",
       "      <th>1464806</th>\n",
       "      <td>2015-05-02 21:00:11</td>\n",
       "      <td>829044</td>\n",
       "      <td>view</td>\n",
       "      <td>60987</td>\n",
       "      <td>NaN</td>\n",
       "    </tr>\n",
       "    <tr>\n",
       "      <th>1463000</th>\n",
       "      <td>2015-05-02 21:00:13</td>\n",
       "      <td>652699</td>\n",
       "      <td>view</td>\n",
       "      <td>252860</td>\n",
       "      <td>NaN</td>\n",
       "    </tr>\n",
       "    <tr>\n",
       "      <th>1465287</th>\n",
       "      <td>2015-05-02 21:00:24</td>\n",
       "      <td>1125936</td>\n",
       "      <td>view</td>\n",
       "      <td>33661</td>\n",
       "      <td>NaN</td>\n",
       "    </tr>\n",
       "    <tr>\n",
       "      <th>1462955</th>\n",
       "      <td>2015-05-02 21:00:26</td>\n",
       "      <td>693516</td>\n",
       "      <td>view</td>\n",
       "      <td>297662</td>\n",
       "      <td>NaN</td>\n",
       "    </tr>\n",
       "  </tbody>\n",
       "</table>\n",
       "</div>"
      ],
      "text/plain": [
       "                  timestamp  visitorid      event  itemid  transactionid\n",
       "1462974 2015-05-02 21:00:04     693516  addtocart  297662            NaN\n",
       "1464806 2015-05-02 21:00:11     829044       view   60987            NaN\n",
       "1463000 2015-05-02 21:00:13     652699       view  252860            NaN\n",
       "1465287 2015-05-02 21:00:24    1125936       view   33661            NaN\n",
       "1462955 2015-05-02 21:00:26     693516       view  297662            NaN"
      ]
     },
     "execution_count": 5,
     "metadata": {},
     "output_type": "execute_result"
    }
   ],
   "source": [
    "dfevents.sort_values('timestamp').head()"
   ]
  },
  {
   "cell_type": "code",
   "execution_count": 6,
   "metadata": {},
   "outputs": [
    {
     "data": {
      "text/plain": [
       "(22457, 4)"
      ]
     },
     "execution_count": 6,
     "metadata": {},
     "output_type": "execute_result"
    }
   ],
   "source": [
    "dfpurch = dfevents.loc[dfevents['event'] == 'transaction', ['timestamp', 'visitorid', \n",
    "                                                           'itemid', 'event']]\n",
    "dfpurch = dfpurch.sort_values('timestamp')\n",
    "dfpurch.shape"
   ]
  },
  {
   "cell_type": "code",
   "execution_count": 7,
   "metadata": {},
   "outputs": [
    {
     "data": {
      "text/html": [
       "<div>\n",
       "<style scoped>\n",
       "    .dataframe tbody tr th:only-of-type {\n",
       "        vertical-align: middle;\n",
       "    }\n",
       "\n",
       "    .dataframe tbody tr th {\n",
       "        vertical-align: top;\n",
       "    }\n",
       "\n",
       "    .dataframe thead th {\n",
       "        text-align: right;\n",
       "    }\n",
       "</style>\n",
       "<table border=\"1\" class=\"dataframe\">\n",
       "  <thead>\n",
       "    <tr style=\"text-align: right;\">\n",
       "      <th></th>\n",
       "      <th>ds</th>\n",
       "      <th>visitorid</th>\n",
       "      <th>itemid</th>\n",
       "      <th>event</th>\n",
       "    </tr>\n",
       "  </thead>\n",
       "  <tbody>\n",
       "    <tr>\n",
       "      <th>1465072</th>\n",
       "      <td>2015-05-02 21:27:21</td>\n",
       "      <td>869008</td>\n",
       "      <td>40685</td>\n",
       "      <td>transaction</td>\n",
       "    </tr>\n",
       "    <tr>\n",
       "      <th>1463096</th>\n",
       "      <td>2015-05-02 21:35:01</td>\n",
       "      <td>345781</td>\n",
       "      <td>438400</td>\n",
       "      <td>transaction</td>\n",
       "    </tr>\n",
       "  </tbody>\n",
       "</table>\n",
       "</div>"
      ],
      "text/plain": [
       "                         ds  visitorid  itemid        event\n",
       "1465072 2015-05-02 21:27:21     869008   40685  transaction\n",
       "1463096 2015-05-02 21:35:01     345781  438400  transaction"
      ]
     },
     "execution_count": 7,
     "metadata": {},
     "output_type": "execute_result"
    }
   ],
   "source": [
    "# dfpurch.sort_values('timestamp').head()\n",
    "dfpurch.rename(columns={'timestamp':'ds'}, inplace=True)\n",
    "dfpurch.head(2)"
   ]
  },
  {
   "cell_type": "code",
   "execution_count": 8,
   "metadata": {},
   "outputs": [
    {
     "data": {
      "text/html": [
       "<div>\n",
       "<style scoped>\n",
       "    .dataframe tbody tr th:only-of-type {\n",
       "        vertical-align: middle;\n",
       "    }\n",
       "\n",
       "    .dataframe tbody tr th {\n",
       "        vertical-align: top;\n",
       "    }\n",
       "\n",
       "    .dataframe thead th {\n",
       "        text-align: right;\n",
       "    }\n",
       "</style>\n",
       "<table border=\"1\" class=\"dataframe\">\n",
       "  <thead>\n",
       "    <tr style=\"text-align: right;\">\n",
       "      <th></th>\n",
       "      <th>ds</th>\n",
       "      <th>visitorid</th>\n",
       "      <th>itemid</th>\n",
       "      <th>event</th>\n",
       "    </tr>\n",
       "    <tr>\n",
       "      <th>ds</th>\n",
       "      <th></th>\n",
       "      <th></th>\n",
       "      <th></th>\n",
       "      <th></th>\n",
       "    </tr>\n",
       "  </thead>\n",
       "  <tbody>\n",
       "    <tr>\n",
       "      <th>2015-09-15</th>\n",
       "      <td>145</td>\n",
       "      <td>145</td>\n",
       "      <td>145</td>\n",
       "      <td>145</td>\n",
       "    </tr>\n",
       "    <tr>\n",
       "      <th>2015-09-16</th>\n",
       "      <td>111</td>\n",
       "      <td>111</td>\n",
       "      <td>111</td>\n",
       "      <td>111</td>\n",
       "    </tr>\n",
       "    <tr>\n",
       "      <th>2015-09-17</th>\n",
       "      <td>48</td>\n",
       "      <td>48</td>\n",
       "      <td>48</td>\n",
       "      <td>48</td>\n",
       "    </tr>\n",
       "  </tbody>\n",
       "</table>\n",
       "</div>"
      ],
      "text/plain": [
       "             ds  visitorid  itemid  event\n",
       "ds                                       \n",
       "2015-09-15  145        145     145    145\n",
       "2015-09-16  111        111     111    111\n",
       "2015-09-17   48         48      48     48"
      ]
     },
     "execution_count": 8,
     "metadata": {},
     "output_type": "execute_result"
    }
   ],
   "source": [
    "# df.resample wants the index to be timestamp (BUT)\n",
    "# For DataFrame objects, the keyword on can be used to specify the column instead \n",
    "# of the index for resampling.\n",
    "dfpurch.resample('D', on=\"ds\").count().tail(3)"
   ]
  },
  {
   "cell_type": "code",
   "execution_count": 9,
   "metadata": {},
   "outputs": [
    {
     "name": "stdout",
     "output_type": "stream",
     "text": [
      "(139, 2)\n",
      "(137, 2)\n"
     ]
    },
    {
     "data": {
      "text/html": [
       "<div>\n",
       "<style scoped>\n",
       "    .dataframe tbody tr th:only-of-type {\n",
       "        vertical-align: middle;\n",
       "    }\n",
       "\n",
       "    .dataframe tbody tr th {\n",
       "        vertical-align: top;\n",
       "    }\n",
       "\n",
       "    .dataframe thead th {\n",
       "        text-align: right;\n",
       "    }\n",
       "</style>\n",
       "<table border=\"1\" class=\"dataframe\">\n",
       "  <thead>\n",
       "    <tr style=\"text-align: right;\">\n",
       "      <th></th>\n",
       "      <th>ds</th>\n",
       "      <th>y</th>\n",
       "    </tr>\n",
       "  </thead>\n",
       "  <tbody>\n",
       "    <tr>\n",
       "      <th>135</th>\n",
       "      <td>2015-09-14</td>\n",
       "      <td>173</td>\n",
       "    </tr>\n",
       "    <tr>\n",
       "      <th>136</th>\n",
       "      <td>2015-09-15</td>\n",
       "      <td>145</td>\n",
       "    </tr>\n",
       "    <tr>\n",
       "      <th>137</th>\n",
       "      <td>2015-09-16</td>\n",
       "      <td>111</td>\n",
       "    </tr>\n",
       "  </tbody>\n",
       "</table>\n",
       "</div>"
      ],
      "text/plain": [
       "            ds    y\n",
       "135 2015-09-14  173\n",
       "136 2015-09-15  145\n",
       "137 2015-09-16  111"
      ]
     },
     "execution_count": 9,
     "metadata": {},
     "output_type": "execute_result"
    }
   ],
   "source": [
    "dfday = dfpurch.resample('D', on=\"ds\").count()\n",
    "dfday = dfday[['event']]\n",
    "dfday.reset_index(inplace=True)\n",
    "dfday.rename(columns={'event':'y'}, inplace=True)\n",
    "print(dfday.shape)\n",
    "dfday = dfday.iloc[1:-1]  # remove partial days\n",
    "print(dfday.shape)\n",
    "dfday.tail(3)"
   ]
  },
  {
   "cell_type": "code",
   "execution_count": 104,
   "metadata": {},
   "outputs": [
    {
     "data": {
      "text/plain": [
       "y    163.474453\n",
       "Name: mean, dtype: float64"
      ]
     },
     "execution_count": 104,
     "metadata": {},
     "output_type": "execute_result"
    }
   ],
   "source": [
    "# dfday.describe()\n",
    "dfday.describe().loc['mean']"
   ]
  },
  {
   "cell_type": "code",
   "execution_count": null,
   "metadata": {},
   "outputs": [],
   "source": [
    "# matplotlib.style.available\n",
    "# dfday.to_pickle('../../data/time_ecom/dfday.pkl')"
   ]
  },
  {
   "cell_type": "code",
   "execution_count": 48,
   "metadata": {},
   "outputs": [
    {
     "data": {
      "text/plain": [
       "<matplotlib.axes._subplots.AxesSubplot at 0x7f1aff70e110>"
      ]
     },
     "execution_count": 48,
     "metadata": {},
     "output_type": "execute_result"
    },
    {
     "data": {
      "image/png": "[encoded data removed]",
      "text/plain": [
       "<Figure size 576x396 with 1 Axes>"
      ]
     },
     "metadata": {},
     "output_type": "display_data"
    }
   ],
   "source": [
    "dfday['y'].plot(kind='hist', bins=40, color='wheat')\n",
    "# dfday['y'].plot(kind='kde', color='wheat')"
   ]
  },
  {
   "cell_type": "code",
   "execution_count": 100,
   "metadata": {},
   "outputs": [
    {
     "data": {
      "image/png": "[encoded data removed]",
      "text/plain": [
       "<Figure size 576x396 with 1 Axes>"
      ]
     },
     "metadata": {},
     "output_type": "display_data"
    }
   ],
   "source": [
    "# plt.style.use('seaborn-white')\n",
    "# plt.style.use('ggplot')\n",
    "plt.style.use('seaborn-whitegrid')\n",
    "matplotlib.rc('xtick', labelsize=15) \n",
    "matplotlib.rc('ytick', labelsize=15) \n",
    "dfdayplot = dfday.rename(columns={'y': 'Daily Purchases', \n",
    "                                  'ds': 'time'}).set_index('time')\n",
    "fig, ax = plt.subplots(figsize=(8,5.5))\n",
    "dfdayplot.plot(ax=ax, legend=True, color='skyblue') # or 'tan'\n",
    "# ax.set_label('Daily Purchases')\n",
    "ax.axhline(163.47, label='Mean Purchases= 163.5', linestyle='--')\n",
    "# 'Daily Purchases'\n",
    "# 'Mean Purchases'\n",
    "# ax.annotate('163.5 Mean Daily Purchases', xy=(0.6, 0.5),  xycoords='axes fraction',\n",
    "#             xytext=(0.53, 0.17), textcoords='axes fraction', fontsize=14, \n",
    "#             arrowprops=dict(facecolor='black', shrink=0.05, width=2),\n",
    "#             horizontalalignment='right', verticalalignment='top',\n",
    "#             )\n",
    "ax.set_ylim(15, 335)\n",
    "plt.legend(fontsize=15, loc='best') # 'upper right'\n",
    "# plt.ylabel('Daily Purchase')\n",
    "plt.tight_layout(pad=1)\n",
    "# plt.savefig('../img/dfday_daily.png', dpi=100)"
   ]
  },
  {
   "cell_type": "code",
   "execution_count": null,
   "metadata": {},
   "outputs": [],
   "source": []
  },
  {
   "cell_type": "code",
   "execution_count": null,
   "metadata": {},
   "outputs": [],
   "source": []
  }
 ],
 "metadata": {
  "kernelspec": {
   "display_name": "Python 3",
   "language": "python",
   "name": "python3"
  },
  "language_info": {
   "codemirror_mode": {
    "name": "ipython",
    "version": 3
   },
   "file_extension": ".py",
   "mimetype": "text/x-python",
   "name": "python",
   "nbconvert_exporter": "python",
   "pygments_lexer": "ipython3",
   "version": "3.7.6"
  }
 },
 "nbformat": 4,
 "nbformat_minor": 4
}
