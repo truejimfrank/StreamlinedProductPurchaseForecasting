{
 "cells": [
  {
   "cell_type": "code",
   "execution_count": 49,
   "metadata": {},
   "outputs": [],
   "source": [
    "import pandas as pd\n",
    "import numpy as np\n",
    "import matplotlib.pyplot as plt\n",
    "import matplotlib\n",
    "from datetime import datetime, timedelta\n",
    "# from fbprophet import Prophet"
   ]
  },
  {
   "cell_type": "code",
   "execution_count": 2,
   "metadata": {},
   "outputs": [
    {
     "name": "stdout",
     "output_type": "stream",
     "text": [
      "<class 'pandas.core.frame.DataFrame'>\n",
      "RangeIndex: 2756101 entries, 0 to 2756100\n",
      "Data columns (total 5 columns):\n",
      " #   Column         Dtype  \n",
      "---  ------         -----  \n",
      " 0   timestamp      int64  \n",
      " 1   visitorid      int64  \n",
      " 2   event          object \n",
      " 3   itemid         int64  \n",
      " 4   transactionid  float64\n",
      "dtypes: float64(1), int64(3), object(1)\n",
      "memory usage: 105.1+ MB\n"
     ]
    }
   ],
   "source": [
    "dfevents = pd.read_csv('../../data/ecommerce/events.csv')\n",
    "dfevents.info()"
   ]
  },
  {
   "cell_type": "code",
   "execution_count": 3,
   "metadata": {},
   "outputs": [],
   "source": [
    "def unix_time_convert(df):\n",
    "    times=[]  # convert from unix time format\n",
    "    for i in df['timestamp']:\n",
    "        times.append(datetime.datetime.fromtimestamp(i//1000.0))\n",
    "    df['timestamp']=times\n",
    "    return df"
   ]
  },
  {
   "cell_type": "code",
   "execution_count": 4,
   "metadata": {},
   "outputs": [
    {
     "name": "stdout",
     "output_type": "stream",
     "text": [
      "<class 'pandas.core.frame.DataFrame'>\n",
      "RangeIndex: 2756101 entries, 0 to 2756100\n",
      "Data columns (total 5 columns):\n",
      " #   Column         Dtype         \n",
      "---  ------         -----         \n",
      " 0   timestamp      datetime64[ns]\n",
      " 1   visitorid      int64         \n",
      " 2   event          object        \n",
      " 3   itemid         int64         \n",
      " 4   transactionid  float64       \n",
      "dtypes: datetime64[ns](1), float64(1), int64(2), object(1)\n",
      "memory usage: 105.1+ MB\n"
     ]
    }
   ],
   "source": [
    "dfevents = unix_time_convert(dfevents)\n",
    "dfevents.info()"
   ]
  },
  {
   "cell_type": "code",
   "execution_count": 5,
   "metadata": {},
   "outputs": [
    {
     "data": {
      "text/html": [
       "<div>\n",
       "<style scoped>\n",
       "    .dataframe tbody tr th:only-of-type {\n",
       "        vertical-align: middle;\n",
       "    }\n",
       "\n",
       "    .dataframe tbody tr th {\n",
       "        vertical-align: top;\n",
       "    }\n",
       "\n",
       "    .dataframe thead th {\n",
       "        text-align: right;\n",
       "    }\n",
       "</style>\n",
       "<table border=\"1\" class=\"dataframe\">\n",
       "  <thead>\n",
       "    <tr style=\"text-align: right;\">\n",
       "      <th></th>\n",
       "      <th>timestamp</th>\n",
       "      <th>visitorid</th>\n",
       "      <th>event</th>\n",
       "      <th>itemid</th>\n",
       "      <th>transactionid</th>\n",
       "    </tr>\n",
       "  </thead>\n",
       "  <tbody>\n",
       "    <tr>\n",
       "      <th>1462974</th>\n",
       "      <td>2015-05-02 21:00:04</td>\n",
       "      <td>693516</td>\n",
       "      <td>addtocart</td>\n",
       "      <td>297662</td>\n",
       "      <td>NaN</td>\n",
       "    </tr>\n",
       "    <tr>\n",
       "      <th>1464806</th>\n",
       "      <td>2015-05-02 21:00:11</td>\n",
       "      <td>829044</td>\n",
       "      <td>view</td>\n",
       "      <td>60987</td>\n",
       "      <td>NaN</td>\n",
       "    </tr>\n",
       "    <tr>\n",
       "      <th>1463000</th>\n",
       "      <td>2015-05-02 21:00:13</td>\n",
       "      <td>652699</td>\n",
       "      <td>view</td>\n",
       "      <td>252860</td>\n",
       "      <td>NaN</td>\n",
       "    </tr>\n",
       "    <tr>\n",
       "      <th>1465287</th>\n",
       "      <td>2015-05-02 21:00:24</td>\n",
       "      <td>1125936</td>\n",
       "      <td>view</td>\n",
       "      <td>33661</td>\n",
       "      <td>NaN</td>\n",
       "    </tr>\n",
       "    <tr>\n",
       "      <th>1462955</th>\n",
       "      <td>2015-05-02 21:00:26</td>\n",
       "      <td>693516</td>\n",
       "      <td>view</td>\n",
       "      <td>297662</td>\n",
       "      <td>NaN</td>\n",
       "    </tr>\n",
       "  </tbody>\n",
       "</table>\n",
       "</div>"
      ],
      "text/plain": [
       "                  timestamp  visitorid      event  itemid  transactionid\n",
       "1462974 2015-05-02 21:00:04     693516  addtocart  297662            NaN\n",
       "1464806 2015-05-02 21:00:11     829044       view   60987            NaN\n",
       "1463000 2015-05-02 21:00:13     652699       view  252860            NaN\n",
       "1465287 2015-05-02 21:00:24    1125936       view   33661            NaN\n",
       "1462955 2015-05-02 21:00:26     693516       view  297662            NaN"
      ]
     },
     "execution_count": 5,
     "metadata": {},
     "output_type": "execute_result"
    }
   ],
   "source": [
    "dfevents.sort_values('timestamp').head()"
   ]
  },
  {
   "cell_type": "code",
   "execution_count": 6,
   "metadata": {},
   "outputs": [
    {
     "data": {
      "text/plain": [
       "(22457, 4)"
      ]
     },
     "execution_count": 6,
     "metadata": {},
     "output_type": "execute_result"
    }
   ],
   "source": [
    "dfpurch = dfevents.loc[dfevents['event'] == 'transaction', ['timestamp', 'visitorid', \n",
    "                                                           'itemid', 'event']]\n",
    "dfpurch = dfpurch.sort_values('timestamp')\n",
    "dfpurch.shape"
   ]
  },
  {
   "cell_type": "code",
   "execution_count": 7,
   "metadata": {},
   "outputs": [
    {
     "data": {
      "text/html": [
       "<div>\n",
       "<style scoped>\n",
       "    .dataframe tbody tr th:only-of-type {\n",
       "        vertical-align: middle;\n",
       "    }\n",
       "\n",
       "    .dataframe tbody tr th {\n",
       "        vertical-align: top;\n",
       "    }\n",
       "\n",
       "    .dataframe thead th {\n",
       "        text-align: right;\n",
       "    }\n",
       "</style>\n",
       "<table border=\"1\" class=\"dataframe\">\n",
       "  <thead>\n",
       "    <tr style=\"text-align: right;\">\n",
       "      <th></th>\n",
       "      <th>ds</th>\n",
       "      <th>visitorid</th>\n",
       "      <th>itemid</th>\n",
       "      <th>event</th>\n",
       "    </tr>\n",
       "  </thead>\n",
       "  <tbody>\n",
       "    <tr>\n",
       "      <th>1465072</th>\n",
       "      <td>2015-05-02 21:27:21</td>\n",
       "      <td>869008</td>\n",
       "      <td>40685</td>\n",
       "      <td>transaction</td>\n",
       "    </tr>\n",
       "    <tr>\n",
       "      <th>1463096</th>\n",
       "      <td>2015-05-02 21:35:01</td>\n",
       "      <td>345781</td>\n",
       "      <td>438400</td>\n",
       "      <td>transaction</td>\n",
       "    </tr>\n",
       "  </tbody>\n",
       "</table>\n",
       "</div>"
      ],
      "text/plain": [
       "                         ds  visitorid  itemid        event\n",
       "1465072 2015-05-02 21:27:21     869008   40685  transaction\n",
       "1463096 2015-05-02 21:35:01     345781  438400  transaction"
      ]
     },
     "execution_count": 7,
     "metadata": {},
     "output_type": "execute_result"
    }
   ],
   "source": [
    "# dfpurch.sort_values('timestamp').head()\n",
    "dfpurch.rename(columns={'timestamp':'ds'}, inplace=True)\n",
    "dfpurch.head(2)"
   ]
  },
  {
   "cell_type": "code",
   "execution_count": 8,
   "metadata": {},
   "outputs": [
    {
     "data": {
      "text/html": [
       "<div>\n",
       "<style scoped>\n",
       "    .dataframe tbody tr th:only-of-type {\n",
       "        vertical-align: middle;\n",
       "    }\n",
       "\n",
       "    .dataframe tbody tr th {\n",
       "        vertical-align: top;\n",
       "    }\n",
       "\n",
       "    .dataframe thead th {\n",
       "        text-align: right;\n",
       "    }\n",
       "</style>\n",
       "<table border=\"1\" class=\"dataframe\">\n",
       "  <thead>\n",
       "    <tr style=\"text-align: right;\">\n",
       "      <th></th>\n",
       "      <th>ds</th>\n",
       "      <th>visitorid</th>\n",
       "      <th>itemid</th>\n",
       "      <th>event</th>\n",
       "    </tr>\n",
       "    <tr>\n",
       "      <th>ds</th>\n",
       "      <th></th>\n",
       "      <th></th>\n",
       "      <th></th>\n",
       "      <th></th>\n",
       "    </tr>\n",
       "  </thead>\n",
       "  <tbody>\n",
       "    <tr>\n",
       "      <th>2015-09-15</th>\n",
       "      <td>145</td>\n",
       "      <td>145</td>\n",
       "      <td>145</td>\n",
       "      <td>145</td>\n",
       "    </tr>\n",
       "    <tr>\n",
       "      <th>2015-09-16</th>\n",
       "      <td>111</td>\n",
       "      <td>111</td>\n",
       "      <td>111</td>\n",
       "      <td>111</td>\n",
       "    </tr>\n",
       "    <tr>\n",
       "      <th>2015-09-17</th>\n",
       "      <td>48</td>\n",
       "      <td>48</td>\n",
       "      <td>48</td>\n",
       "      <td>48</td>\n",
       "    </tr>\n",
       "  </tbody>\n",
       "</table>\n",
       "</div>"
      ],
      "text/plain": [
       "             ds  visitorid  itemid  event\n",
       "ds                                       \n",
       "2015-09-15  145        145     145    145\n",
       "2015-09-16  111        111     111    111\n",
       "2015-09-17   48         48      48     48"
      ]
     },
     "execution_count": 8,
     "metadata": {},
     "output_type": "execute_result"
    }
   ],
   "source": [
    "# df.resample wants the index to be timestamp (BUT)\n",
    "# For DataFrame objects, the keyword on can be used to specify the column instead \n",
    "# of the index for resampling.\n",
    "dfpurch.resample('D', on=\"ds\").count().tail(3)"
   ]
  },
  {
   "cell_type": "code",
   "execution_count": 9,
   "metadata": {},
   "outputs": [
    {
     "name": "stdout",
     "output_type": "stream",
     "text": [
      "(139, 2)\n",
      "(137, 2)\n"
     ]
    },
    {
     "data": {
      "text/html": [
       "<div>\n",
       "<style scoped>\n",
       "    .dataframe tbody tr th:only-of-type {\n",
       "        vertical-align: middle;\n",
       "    }\n",
       "\n",
       "    .dataframe tbody tr th {\n",
       "        vertical-align: top;\n",
       "    }\n",
       "\n",
       "    .dataframe thead th {\n",
       "        text-align: right;\n",
       "    }\n",
       "</style>\n",
       "<table border=\"1\" class=\"dataframe\">\n",
       "  <thead>\n",
       "    <tr style=\"text-align: right;\">\n",
       "      <th></th>\n",
       "      <th>ds</th>\n",
       "      <th>y</th>\n",
       "    </tr>\n",
       "  </thead>\n",
       "  <tbody>\n",
       "    <tr>\n",
       "      <th>135</th>\n",
       "      <td>2015-09-14</td>\n",
       "      <td>173</td>\n",
       "    </tr>\n",
       "    <tr>\n",
       "      <th>136</th>\n",
       "      <td>2015-09-15</td>\n",
       "      <td>145</td>\n",
       "    </tr>\n",
       "    <tr>\n",
       "      <th>137</th>\n",
       "      <td>2015-09-16</td>\n",
       "      <td>111</td>\n",
       "    </tr>\n",
       "  </tbody>\n",
       "</table>\n",
       "</div>"
      ],
      "text/plain": [
       "            ds    y\n",
       "135 2015-09-14  173\n",
       "136 2015-09-15  145\n",
       "137 2015-09-16  111"
      ]
     },
     "execution_count": 9,
     "metadata": {},
     "output_type": "execute_result"
    }
   ],
   "source": [
    "dfday = dfpurch.resample('D', on=\"ds\").count()\n",
    "dfday = dfday[['event']]\n",
    "dfday.reset_index(inplace=True)\n",
    "dfday.rename(columns={'event':'y'}, inplace=True)\n",
    "print(dfday.shape)\n",
    "dfday = dfday.iloc[1:-1]  # remove partial days\n",
    "print(dfday.shape)\n",
    "dfday.tail(3)"
   ]
  },
  {
   "cell_type": "code",
   "execution_count": 10,
   "metadata": {},
   "outputs": [
    {
     "data": {
      "text/plain": [
       "y    163.474453\n",
       "Name: mean, dtype: float64"
      ]
     },
     "execution_count": 10,
     "metadata": {},
     "output_type": "execute_result"
    }
   ],
   "source": [
    "# dfday.describe()\n",
    "dfday.describe().loc['mean']"
   ]
  },
  {
   "cell_type": "code",
   "execution_count": 11,
   "metadata": {},
   "outputs": [],
   "source": [
    "# matplotlib.style.available\n",
    "# dfday.to_pickle('../../data/time_ecom/dfday.pkl')"
   ]
  },
  {
   "cell_type": "code",
   "execution_count": 12,
   "metadata": {},
   "outputs": [
    {
     "data": {
      "text/plain": [
       "<matplotlib.axes._subplots.AxesSubplot at 0x7fdc42b67410>"
      ]
     },
     "execution_count": 12,
     "metadata": {},
     "output_type": "execute_result"
    },
    {
     "data": {
      "image/png": "[encoded data removed]",
      "text/plain": [
       "<Figure size 432x288 with 1 Axes>"
      ]
     },
     "metadata": {
      "needs_background": "light"
     },
     "output_type": "display_data"
    }
   ],
   "source": [
    "dfday['y'].plot(kind='hist', bins=40, color='wheat')\n",
    "# dfday['y'].plot(kind='kde', color='wheat')"
   ]
  },
  {
   "cell_type": "code",
   "execution_count": 55,
   "metadata": {},
   "outputs": [
    {
     "name": "stdout",
     "output_type": "stream",
     "text": [
      "2015-05-03T00:00:00.000000000 2015-09-16T00:00:00.000000000\n"
     ]
    }
   ],
   "source": [
    "# 'Daily Purchases'\n",
    "# 'Mean Purchases'\n",
    "# ax.annotate('163.5 Mean Daily Purchases', xy=(0.6, 0.5),  xycoords='axes fraction',\n",
    "#             xytext=(0.53, 0.17), textcoords='axes fraction', fontsize=14, \n",
    "#             arrowprops=dict(facecolor='black', shrink=0.05, width=2),\n",
    "#             horizontalalignment='right', verticalalignment='top',\n",
    "#             )\n",
    "# dfdayplot.head()\n",
    "ticks_full = np.arange(datetime(2015,5,12), datetime(2015,9,16), timedelta(weeks=4))\n",
    "ticks_full\n",
    "print(dfdayplot.index.values[0], dfdayplot.index.values[-1])"
   ]
  },
  {
   "cell_type": "code",
   "execution_count": 62,
   "metadata": {},
   "outputs": [
    {
     "data": {
      "image/png": "[encoded data removed]",
      "text/plain": [
       "<Figure size 972x432 with 1 Axes>"
      ]
     },
     "metadata": {},
     "output_type": "display_data"
    }
   ],
   "source": [
    "# plt.style.use('seaborn-white')\n",
    "# plt.style.use('ggplot')\n",
    "plt.style.use('seaborn-whitegrid')\n",
    "dfdayplot = dfday.rename(columns={'y': 'Daily Purchases', \n",
    "                                  'ds': 'time'}).set_index('time')\n",
    "\n",
    "matplotlib.rc('xtick', labelsize=28) \n",
    "matplotlib.rc('ytick', labelsize=23)\n",
    "matplotlib.rc('lines', linewidth=6, color='red')\n",
    "fig, ax = plt.subplots(figsize=(13.5,6))\n",
    "# dfdayplot.plot(ax=ax, legend=True, color='black', linewidth=3) # or 'tan'\n",
    "ax.plot(dfdayplot['Daily Purchases'], color='black', linewidth=3, label=\"Daily Purchases\")\n",
    "# ax.set_label('Daily Purchases')\n",
    "ax.axhline(163.47, label='Mean Purchases= 163.5', linestyle='--')\n",
    "\n",
    "ax.set_xlim(dfdayplot.index.values[0], dfdayplot.index.values[-1])\n",
    "ax.set_xticks(ticks_full)\n",
    "\n",
    "ax.set_xlabel(None)\n",
    "ax.set_ylabel(\"Daily Purchases\", fontsize=32)\n",
    "ax.set_ylim(1, 375)\n",
    "plt.legend(fontsize=28, loc='upper right') # 'upper right' 'best'\n",
    "# plt.ylabel('Daily Purchase')\n",
    "plt.tight_layout(pad=1)\n",
    "# plt.savefig('../img/data_timeseries.png', dpi=100)"
   ]
  },
  {
   "cell_type": "code",
   "execution_count": 14,
   "metadata": {},
   "outputs": [
    {
     "name": "stdout",
     "output_type": "stream",
     "text": [
      "(137, 2)\n",
      "(109, 2) (28, 2)\n"
     ]
    }
   ],
   "source": [
    "# testing the split for train test\n",
    "test_len = 28\n",
    "print(dfday.shape)\n",
    "df_train = dfday[:-test_len]\n",
    "df_test = dfday[-test_len:]\n",
    "print(df_train.shape, df_test.shape)"
   ]
  },
  {
   "cell_type": "code",
   "execution_count": 15,
   "metadata": {},
   "outputs": [],
   "source": [
    "# stacked horizontal bar graph for event type counts\n",
    "category_names = ['2,664,312 Product Views', '69,332 Add To Cart', \n",
    "                  '22,457 Product Purchases']\n",
    "results = {'Data Events': [2664312, 69332, 22457]}\n",
    "# results[0] // results[2]  # 118 views per 1 purchase"
   ]
  },
  {
   "cell_type": "code",
   "execution_count": 16,
   "metadata": {},
   "outputs": [],
   "source": [
    "scrap = {\n",
    "    'Question 1': [10, 15, 17, 32, 26],\n",
    "    'Question 2': [26, 22, 29, 10, 13]}\n",
    "def survey(results, category_names):\n",
    "    \"\"\"\n",
    "    Parameters\n",
    "    ----------\n",
    "    results : dict\n",
    "        A mapping from question labels to a list of answers per category.\n",
    "        It is assumed all lists contain the same number of entries and that\n",
    "        it matches the length of *category_names*.\n",
    "    category_names : list of str\n",
    "        The category labels.\n",
    "    \"\"\"\n",
    "    labels = list(results.keys())\n",
    "    data = np.array(list(results.values()))\n",
    "    data_cum = data.cumsum(axis=1)\n",
    "    category_colors = plt.get_cmap('Blues')(\n",
    "        np.linspace(0.25, 0.95, data.shape[1]))\n",
    "\n",
    "    fig, ax = plt.subplots(figsize=(13.5, 1.5))\n",
    "    ax.invert_yaxis()\n",
    "    ax.xaxis.set_visible(False)\n",
    "    ax.set_xlim(0, np.sum(data, axis=1).max())\n",
    "\n",
    "    for i, (colname, color) in enumerate(zip(category_names, category_colors)):\n",
    "        widths = data[:, i]\n",
    "        starts = data_cum[:, i] - widths\n",
    "        ax.barh(labels, widths, left=starts, height=0.5,\n",
    "                label=colname, color=color)\n",
    "        xcenters = starts + widths / 2\n",
    "\n",
    "        r, g, b, _ = color\n",
    "#         text_color = 'white' if r * g * b < 0.5 else 'darkgrey'\n",
    "        text_color = 'black'\n",
    "#         for y, (x, c) in enumerate(zip(xcenters, widths)):\n",
    "#             ax.text(x, y, str(int(c)), ha='center', va='center',\n",
    "#                     color=text_color, fontsize=18)\n",
    "    ax.legend(ncol=len(category_names), bbox_to_anchor=(0, 1),\n",
    "              loc='lower left', fontsize=18)\n",
    "\n",
    "    return fig, ax"
   ]
  },
  {
   "cell_type": "code",
   "execution_count": 17,
   "metadata": {},
   "outputs": [
    {
     "data": {
      "image/png": "[encoded data removed]",
      "text/plain": [
       "<Figure size 972x108 with 1 Axes>"
      ]
     },
     "metadata": {},
     "output_type": "display_data"
    }
   ],
   "source": [
    "figbar, axbar = survey(results, category_names)\n",
    "plt.tight_layout(pad=1)\n",
    "# plt.savefig('../img/events_hbar.png', dpi=100)"
   ]
  },
  {
   "cell_type": "code",
   "execution_count": null,
   "metadata": {},
   "outputs": [],
   "source": []
  }
 ],
 "metadata": {
  "kernelspec": {
   "display_name": "Python 3",
   "language": "python",
   "name": "python3"
  },
  "language_info": {
   "codemirror_mode": {
    "name": "ipython",
    "version": 3
   },
   "file_extension": ".py",
   "mimetype": "text/x-python",
   "name": "python",
   "nbconvert_exporter": "python",
   "pygments_lexer": "ipython3",
   "version": "3.7.6"
  }
 },
 "nbformat": 4,
 "nbformat_minor": 4
}
