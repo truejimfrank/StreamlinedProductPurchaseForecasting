{
 "cells": [
  {
   "cell_type": "code",
   "execution_count": 59,
   "metadata": {},
   "outputs": [],
   "source": [
    "import pandas as pd \n",
    "import numpy as np\n",
    "import datetime\n",
    "import time\n",
    "# import matplotlib.pyplot as plt\n",
    "\n",
    "# cant run outside docker tensorflow\n",
    "from sklearn.preprocessing import MinMaxScaler\n",
    "# from tensorflow.keras.models import Sequential\n",
    "# from tensorflow.keras.layers import Dense, Dropout, Activation\n",
    "# from tensorflow.keras.layers import LSTM"
   ]
  },
  {
   "cell_type": "code",
   "execution_count": 2,
   "metadata": {},
   "outputs": [],
   "source": [
    "dfday = pd.read_pickle('../../data/time_ecom/dfday.pkl')"
   ]
  },
  {
   "cell_type": "code",
   "execution_count": 26,
   "metadata": {},
   "outputs": [],
   "source": [
    "def simple_splitter(df, test_len=28):\n",
    "    \"\"\"splits off the tail of the dataframe for timeseries split\n",
    "    returns 2 dataframes\"\"\"\n",
    "    df_train = df[:-test_len]\n",
    "    df_test = df[-test_len:]\n",
    "    return df_train, df_test"
   ]
  },
  {
   "cell_type": "code",
   "execution_count": 29,
   "metadata": {},
   "outputs": [],
   "source": [
    "def scale_df2array(df):\n",
    "    \"\"\"input dataframe formatted for FBprophet\n",
    "    columns = ['ds', 'y']\n",
    "    returns array.shape=(len(df), 1) and the fit scaler for inverse transform\n",
    "    \"\"\"\n",
    "    a_ray = np.array(df['y'].values).reshape(-1,1)\n",
    "    scaler = MinMaxScaler(feature_range=(0, 1))\n",
    "    scaled_array = scaler.fit_transform(a_ray)\n",
    "    return scaled_array, scaler"
   ]
  },
  {
   "cell_type": "code",
   "execution_count": 31,
   "metadata": {},
   "outputs": [
    {
     "data": {
      "text/plain": [
       "array([[0.21338912],\n",
       "       [0.56066946],\n",
       "       [0.76987448],\n",
       "       [0.83682008],\n",
       "       [0.72384937],\n",
       "       [0.24267782],\n",
       "       [0.        ],\n",
       "       [0.10460251]])"
      ]
     },
     "execution_count": 31,
     "metadata": {},
     "output_type": "execute_result"
    }
   ],
   "source": [
    "fullarray, thescaler = scale_df2array(dfday)\n",
    "fullarray[:8]"
   ]
  },
  {
   "cell_type": "code",
   "execution_count": 32,
   "metadata": {},
   "outputs": [
    {
     "data": {
      "text/plain": [
       "array([1.       , 0.9916318])"
      ]
     },
     "execution_count": 32,
     "metadata": {},
     "output_type": "execute_result"
    }
   ],
   "source": [
    "fullarray[fullarray > .99]"
   ]
  },
  {
   "cell_type": "code",
   "execution_count": 55,
   "metadata": {},
   "outputs": [
    {
     "data": {
      "text/plain": [
       "((94, 1), 'train   :   test', (43, 1))"
      ]
     },
     "execution_count": 55,
     "metadata": {},
     "output_type": "execute_result"
    }
   ],
   "source": [
    "rnn_seq_len = 14\n",
    "# train, test = simple_splitter(fullarray, test_len=28)\n",
    "train, test = simple_splitter(fullarray, test_len=28 + 1 + rnn_seq_len)\n",
    "train.shape, \"train   :   test\", test.shape"
   ]
  },
  {
   "cell_type": "code",
   "execution_count": 23,
   "metadata": {},
   "outputs": [],
   "source": [
    "np.random.seed(9)\n",
    "def array2rnnformat(scaled_array, seq_len=14, do_shuffle=True):\n",
    "    \"\"\"if dfday then len(df)=137\n",
    "    default len(df_test)=28 so len(df_train)=109\n",
    "    X is sequece of arrays of len seq_len\n",
    "    y is the very next singular future value after array X\n",
    "    x=len(df), y=seq_len, z=num features (parallel timeseries)\n",
    "    output = arrayshape(x,y,z)  keras LSTM wants this\n",
    "    \"\"\"\n",
    "    seq_len += 1\n",
    "    lstm_array = []  #  array of arrays len=seq_len\n",
    "    for index in range(scaled_array.shape[0] - seq_len):\n",
    "        lstm_array.append(scaled_array[index : index + seq_len])\n",
    "    # convert the list to array\n",
    "    lstm_array = np.array(lstm_array)\n",
    "    # shuffle the array of arrays\n",
    "    if do_shuffle:\n",
    "        np.random.shuffle(lstm_array)\n",
    "    # take the last 'column' value, this becomes y\n",
    "    X_lstm = lstm_array[:, :-1]\n",
    "    y_lstm = lstm_array[:, -1]\n",
    "    # reshape X to (x,y,z) for LSTM input\n",
    "    X_lstm = np.reshape(X_lstm, (X_lstm.shape[0], X_lstm.shape[1], 1))\n",
    "    return X_lstm, y_lstm"
   ]
  },
  {
   "cell_type": "code",
   "execution_count": 56,
   "metadata": {},
   "outputs": [],
   "source": [
    "X_train, y_train = array2rnnformat(train, seq_len=14, do_shuffle=True)"
   ]
  },
  {
   "cell_type": "code",
   "execution_count": 57,
   "metadata": {},
   "outputs": [
    {
     "data": {
      "text/plain": [
       "((79, 14, 1), 'Xshape  :  yshape', (79, 1))"
      ]
     },
     "execution_count": 57,
     "metadata": {},
     "output_type": "execute_result"
    }
   ],
   "source": [
    "X_train[:3]\n",
    "X_train.shape, \"Xshape  :  yshape\", y_train.shape"
   ]
  },
  {
   "cell_type": "code",
   "execution_count": 58,
   "metadata": {},
   "outputs": [
    {
     "data": {
      "text/plain": [
       "((28, 14, 1), 'Xshape  :  yshape', (28, 1))"
      ]
     },
     "execution_count": 58,
     "metadata": {},
     "output_type": "execute_result"
    }
   ],
   "source": [
    "X_test, Y_test = array2rnnformat(test, seq_len=rnn_seq_len, do_shuffle=False)\n",
    "X_test.shape, \"Xshape  :  yshape\", y_test.shape"
   ]
  },
  {
   "cell_type": "code",
   "execution_count": null,
   "metadata": {},
   "outputs": [],
   "source": []
  }
 ],
 "metadata": {
  "kernelspec": {
   "display_name": "Python 3",
   "language": "python",
   "name": "python3"
  },
  "language_info": {
   "codemirror_mode": {
    "name": "ipython",
    "version": 3
   },
   "file_extension": ".py",
   "mimetype": "text/x-python",
   "name": "python",
   "nbconvert_exporter": "python",
   "pygments_lexer": "ipython3",
   "version": "3.7.6"
  }
 },
 "nbformat": 4,
 "nbformat_minor": 4
}
