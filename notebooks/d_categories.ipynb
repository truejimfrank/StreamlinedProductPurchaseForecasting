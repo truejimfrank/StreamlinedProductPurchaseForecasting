{
 "cells": [
  {
   "cell_type": "code",
   "execution_count": 1,
   "metadata": {},
   "outputs": [],
   "source": [
    "import pandas as pd\n",
    "import numpy as np\n",
    "import matplotlib.pyplot as plt\n",
    "import matplotlib\n",
    "import datetime"
   ]
  },
  {
   "cell_type": "code",
   "execution_count": 2,
   "metadata": {},
   "outputs": [
    {
     "name": "stdout",
     "output_type": "stream",
     "text": [
      "(788214, 2) (417053, 1)\n"
     ]
    }
   ],
   "source": [
    "# working with category data from cap2\n",
    "cat_prod = pd.read_pickle('../../data/ecommerce/prod_with_cat.pkl', compression='zip')\n",
    "uni_prod = pd.read_pickle('../../data/ecommerce/prod_unique.pkl', compression='zip')\n",
    "print(cat_prod.shape, uni_prod.shape)"
   ]
  },
  {
   "cell_type": "code",
   "execution_count": 3,
   "metadata": {},
   "outputs": [
    {
     "data": {
      "text/html": [
       "<div>\n",
       "<style scoped>\n",
       "    .dataframe tbody tr th:only-of-type {\n",
       "        vertical-align: middle;\n",
       "    }\n",
       "\n",
       "    .dataframe tbody tr th {\n",
       "        vertical-align: top;\n",
       "    }\n",
       "\n",
       "    .dataframe thead th {\n",
       "        text-align: right;\n",
       "    }\n",
       "</style>\n",
       "<table border=\"1\" class=\"dataframe\">\n",
       "  <thead>\n",
       "    <tr style=\"text-align: right;\">\n",
       "      <th></th>\n",
       "      <th>itemid</th>\n",
       "      <th>value</th>\n",
       "    </tr>\n",
       "  </thead>\n",
       "  <tbody>\n",
       "    <tr>\n",
       "      <th>15</th>\n",
       "      <td>8921</td>\n",
       "      <td>1188</td>\n",
       "    </tr>\n",
       "    <tr>\n",
       "      <th>70</th>\n",
       "      <td>122405</td>\n",
       "      <td>769</td>\n",
       "    </tr>\n",
       "    <tr>\n",
       "      <th>162</th>\n",
       "      <td>225336</td>\n",
       "      <td>491</td>\n",
       "    </tr>\n",
       "    <tr>\n",
       "      <th>182</th>\n",
       "      <td>193256</td>\n",
       "      <td>1261</td>\n",
       "    </tr>\n",
       "    <tr>\n",
       "      <th>257</th>\n",
       "      <td>301841</td>\n",
       "      <td>1493</td>\n",
       "    </tr>\n",
       "  </tbody>\n",
       "</table>\n",
       "</div>"
      ],
      "text/plain": [
       "     itemid value\n",
       "15     8921  1188\n",
       "70   122405   769\n",
       "162  225336   491\n",
       "182  193256  1261\n",
       "257  301841  1493"
      ]
     },
     "execution_count": 3,
     "metadata": {},
     "output_type": "execute_result"
    }
   ],
   "source": [
    "cat_prod.head()"
   ]
  },
  {
   "cell_type": "code",
   "execution_count": 11,
   "metadata": {},
   "outputs": [
    {
     "data": {
      "text/html": [
       "<div>\n",
       "<style scoped>\n",
       "    .dataframe tbody tr th:only-of-type {\n",
       "        vertical-align: middle;\n",
       "    }\n",
       "\n",
       "    .dataframe tbody tr th {\n",
       "        vertical-align: top;\n",
       "    }\n",
       "\n",
       "    .dataframe thead th {\n",
       "        text-align: right;\n",
       "    }\n",
       "</style>\n",
       "<table border=\"1\" class=\"dataframe\">\n",
       "  <thead>\n",
       "    <tr style=\"text-align: right;\">\n",
       "      <th></th>\n",
       "      <th>itemid</th>\n",
       "      <th>value</th>\n",
       "    </tr>\n",
       "  </thead>\n",
       "  <tbody>\n",
       "    <tr>\n",
       "      <th>257</th>\n",
       "      <td>301841</td>\n",
       "      <td>1493</td>\n",
       "    </tr>\n",
       "  </tbody>\n",
       "</table>\n",
       "</div>"
      ],
      "text/plain": [
       "     itemid value\n",
       "257  301841  1493"
      ]
     },
     "execution_count": 11,
     "metadata": {},
     "output_type": "execute_result"
    }
   ],
   "source": [
    "cat_prod[cat_prod['itemid'] == 301841]"
   ]
  },
  {
   "cell_type": "code",
   "execution_count": 10,
   "metadata": {},
   "outputs": [
    {
     "data": {
      "text/plain": [
       "(417053, 1242)"
      ]
     },
     "execution_count": 10,
     "metadata": {},
     "output_type": "execute_result"
    }
   ],
   "source": [
    "cat_prod['itemid'].nunique(), cat_prod['value'].nunique()"
   ]
  },
  {
   "cell_type": "code",
   "execution_count": 19,
   "metadata": {},
   "outputs": [
    {
     "name": "stdout",
     "output_type": "stream",
     "text": [
      "<class 'pandas.core.frame.DataFrame'>\n",
      "Int64Index: 788214 entries, 15 to 10999994\n",
      "Data columns (total 2 columns):\n",
      " #   Column  Non-Null Count   Dtype\n",
      "---  ------  --------------   -----\n",
      " 0   itemid  788214 non-null  int64\n",
      " 1   value   788214 non-null  int32\n",
      "dtypes: int32(1), int64(1)\n",
      "memory usage: 15.0 MB\n"
     ]
    }
   ],
   "source": [
    "# value column is text, convert to int\n",
    "cat_prod['value'] = cat_prod['value'].astype('int32')\n",
    "cat_prod.info()"
   ]
  },
  {
   "cell_type": "code",
   "execution_count": 39,
   "metadata": {},
   "outputs": [],
   "source": [
    "# rename value to category\n",
    "# DF of lists of itemid associated with category #\n",
    "\n",
    "cat_prod.rename(columns={'value':'category'}, inplace=True)\n",
    "dfcatlist = cat_prod.groupby(\"category\").agg(list)"
   ]
  },
  {
   "cell_type": "code",
   "execution_count": 36,
   "metadata": {},
   "outputs": [
    {
     "data": {
      "text/html": [
       "<div>\n",
       "<style scoped>\n",
       "    .dataframe tbody tr th:only-of-type {\n",
       "        vertical-align: middle;\n",
       "    }\n",
       "\n",
       "    .dataframe tbody tr th {\n",
       "        vertical-align: top;\n",
       "    }\n",
       "\n",
       "    .dataframe thead th {\n",
       "        text-align: right;\n",
       "    }\n",
       "</style>\n",
       "<table border=\"1\" class=\"dataframe\">\n",
       "  <thead>\n",
       "    <tr style=\"text-align: right;\">\n",
       "      <th></th>\n",
       "      <th>itemid</th>\n",
       "      <th>itemidcount</th>\n",
       "    </tr>\n",
       "    <tr>\n",
       "      <th>category</th>\n",
       "      <th></th>\n",
       "      <th></th>\n",
       "    </tr>\n",
       "  </thead>\n",
       "  <tbody>\n",
       "    <tr>\n",
       "      <th>0</th>\n",
       "      <td>[263866, 229245, 23611, 304596, 311126, 62214,...</td>\n",
       "      <td>159</td>\n",
       "    </tr>\n",
       "    <tr>\n",
       "      <th>1</th>\n",
       "      <td>[175802, 115073, 279462, 55796, 263477, 176579...</td>\n",
       "      <td>867</td>\n",
       "    </tr>\n",
       "    <tr>\n",
       "      <th>2</th>\n",
       "      <td>[63826, 492, 48917, 63826, 492, 48917, 63826, ...</td>\n",
       "      <td>188</td>\n",
       "    </tr>\n",
       "    <tr>\n",
       "      <th>3</th>\n",
       "      <td>[463944, 454913, 102096, 18871, 382319, 286334...</td>\n",
       "      <td>402</td>\n",
       "    </tr>\n",
       "    <tr>\n",
       "      <th>4</th>\n",
       "      <td>[248096, 331443, 283204, 1117, 9419, 448921, 4...</td>\n",
       "      <td>77</td>\n",
       "    </tr>\n",
       "  </tbody>\n",
       "</table>\n",
       "</div>"
      ],
      "text/plain": [
       "                                                     itemid  itemidcount\n",
       "category                                                                \n",
       "0         [263866, 229245, 23611, 304596, 311126, 62214,...          159\n",
       "1         [175802, 115073, 279462, 55796, 263477, 176579...          867\n",
       "2         [63826, 492, 48917, 63826, 492, 48917, 63826, ...          188\n",
       "3         [463944, 454913, 102096, 18871, 382319, 286334...          402\n",
       "4         [248096, 331443, 283204, 1117, 9419, 448921, 4...           77"
      ]
     },
     "execution_count": 36,
     "metadata": {},
     "output_type": "execute_result"
    }
   ],
   "source": [
    "# len(dfcatlist['itemid'][0])  # len of 1st list is 159\n",
    "dfcatlist['itemidcount'] = dfcatlist['itemid'].apply(len)\n",
    "dfcatlist.head()"
   ]
  },
  {
   "cell_type": "code",
   "execution_count": 58,
   "metadata": {},
   "outputs": [
    {
     "data": {
      "text/html": [
       "<div>\n",
       "<style scoped>\n",
       "    .dataframe tbody tr th:only-of-type {\n",
       "        vertical-align: middle;\n",
       "    }\n",
       "\n",
       "    .dataframe tbody tr th {\n",
       "        vertical-align: top;\n",
       "    }\n",
       "\n",
       "    .dataframe thead th {\n",
       "        text-align: right;\n",
       "    }\n",
       "</style>\n",
       "<table border=\"1\" class=\"dataframe\">\n",
       "  <thead>\n",
       "    <tr style=\"text-align: right;\">\n",
       "      <th></th>\n",
       "      <th>timestamp</th>\n",
       "      <th>visitorid</th>\n",
       "      <th>event</th>\n",
       "      <th>itemid</th>\n",
       "      <th>transactionid</th>\n",
       "    </tr>\n",
       "  </thead>\n",
       "  <tbody>\n",
       "    <tr>\n",
       "      <th>0</th>\n",
       "      <td>1433221332117</td>\n",
       "      <td>257597</td>\n",
       "      <td>view</td>\n",
       "      <td>355908</td>\n",
       "      <td>NaN</td>\n",
       "    </tr>\n",
       "    <tr>\n",
       "      <th>1</th>\n",
       "      <td>1433224214164</td>\n",
       "      <td>992329</td>\n",
       "      <td>view</td>\n",
       "      <td>248676</td>\n",
       "      <td>NaN</td>\n",
       "    </tr>\n",
       "    <tr>\n",
       "      <th>2</th>\n",
       "      <td>1433221999827</td>\n",
       "      <td>111016</td>\n",
       "      <td>view</td>\n",
       "      <td>318965</td>\n",
       "      <td>NaN</td>\n",
       "    </tr>\n",
       "    <tr>\n",
       "      <th>3</th>\n",
       "      <td>1433221955914</td>\n",
       "      <td>483717</td>\n",
       "      <td>view</td>\n",
       "      <td>253185</td>\n",
       "      <td>NaN</td>\n",
       "    </tr>\n",
       "    <tr>\n",
       "      <th>4</th>\n",
       "      <td>1433221337106</td>\n",
       "      <td>951259</td>\n",
       "      <td>view</td>\n",
       "      <td>367447</td>\n",
       "      <td>NaN</td>\n",
       "    </tr>\n",
       "  </tbody>\n",
       "</table>\n",
       "</div>"
      ],
      "text/plain": [
       "       timestamp  visitorid event  itemid  transactionid\n",
       "0  1433221332117     257597  view  355908            NaN\n",
       "1  1433224214164     992329  view  248676            NaN\n",
       "2  1433221999827     111016  view  318965            NaN\n",
       "3  1433221955914     483717  view  253185            NaN\n",
       "4  1433221337106     951259  view  367447            NaN"
      ]
     },
     "execution_count": 58,
     "metadata": {},
     "output_type": "execute_result"
    }
   ],
   "source": [
    "# move onto dfevents because cat DF is ready\n",
    "dfevents = pd.read_csv('../../data/ecommerce/events.csv')\n",
    "dfevents.head()"
   ]
  },
  {
   "cell_type": "code",
   "execution_count": 59,
   "metadata": {},
   "outputs": [],
   "source": [
    "def unix_time_convert(df):\n",
    "    \"\"\"convert from unix time format\"\"\"\n",
    "    times=[]\n",
    "    for i in df['timestamp']:\n",
    "        times.append(datetime.datetime.fromtimestamp(i//1000.0))\n",
    "    df['timestamp']=times\n",
    "    return df"
   ]
  },
  {
   "cell_type": "code",
   "execution_count": 60,
   "metadata": {},
   "outputs": [],
   "source": [
    "dfevents = unix_time_convert(dfevents)"
   ]
  },
  {
   "cell_type": "code",
   "execution_count": 52,
   "metadata": {},
   "outputs": [],
   "source": [
    "# category has NaN after the join\n",
    "# astype to int wont work on NaN\n",
    "# code below was used for testing\n",
    "# dfcat = dfevents.join(cat_prod.set_index('itemid'), on='itemid')\n",
    "# dfcat['category'] = dfcat['category'].fillna(-1)\n",
    "# dfcat['category'] = dfcat['category'].astype('int32')\n",
    "# dfcat = dfcat[dfcat['event'] == 'transaction']\n",
    "# dfcat.head()"
   ]
  },
  {
   "cell_type": "code",
   "execution_count": 72,
   "metadata": {},
   "outputs": [],
   "source": [
    "def join_cat(dfevents, cat_prod):\n",
    "    \"\"\"join category column to events DF\n",
    "    also filter dfevents first for transactions\"\"\"\n",
    "    dfevents = dfevents[dfevents['event'] == 'transaction']\n",
    "    dfcat = dfevents.join(cat_prod.set_index('itemid'), on='itemid')\n",
    "    dfcat['category'] = dfcat['category'].fillna(-1)\n",
    "    dfcat['category'] = dfcat['category'].astype('int32')\n",
    "    # 23838 - 22547 = 1291 extra records from items with 2 categories\n",
    "    return dfcat.drop_duplicates()"
   ]
  },
  {
   "cell_type": "code",
   "execution_count": 193,
   "metadata": {},
   "outputs": [
    {
     "name": "stdout",
     "output_type": "stream",
     "text": [
      "(23838, 6)\n"
     ]
    },
    {
     "data": {
      "text/html": [
       "<div>\n",
       "<style scoped>\n",
       "    .dataframe tbody tr th:only-of-type {\n",
       "        vertical-align: middle;\n",
       "    }\n",
       "\n",
       "    .dataframe tbody tr th {\n",
       "        vertical-align: top;\n",
       "    }\n",
       "\n",
       "    .dataframe thead th {\n",
       "        text-align: right;\n",
       "    }\n",
       "</style>\n",
       "<table border=\"1\" class=\"dataframe\">\n",
       "  <thead>\n",
       "    <tr style=\"text-align: right;\">\n",
       "      <th></th>\n",
       "      <th>timestamp</th>\n",
       "      <th>visitorid</th>\n",
       "      <th>event</th>\n",
       "      <th>itemid</th>\n",
       "      <th>transactionid</th>\n",
       "      <th>category</th>\n",
       "    </tr>\n",
       "  </thead>\n",
       "  <tbody>\n",
       "    <tr>\n",
       "      <th>130</th>\n",
       "      <td>2015-06-01 23:17:56</td>\n",
       "      <td>599528</td>\n",
       "      <td>transaction</td>\n",
       "      <td>356475</td>\n",
       "      <td>4000.0</td>\n",
       "      <td>386</td>\n",
       "    </tr>\n",
       "    <tr>\n",
       "      <th>304</th>\n",
       "      <td>2015-06-01 15:18:20</td>\n",
       "      <td>121688</td>\n",
       "      <td>transaction</td>\n",
       "      <td>15335</td>\n",
       "      <td>11117.0</td>\n",
       "      <td>1098</td>\n",
       "    </tr>\n",
       "    <tr>\n",
       "      <th>418</th>\n",
       "      <td>2015-06-01 15:25:15</td>\n",
       "      <td>552148</td>\n",
       "      <td>transaction</td>\n",
       "      <td>81345</td>\n",
       "      <td>5444.0</td>\n",
       "      <td>1393</td>\n",
       "    </tr>\n",
       "  </tbody>\n",
       "</table>\n",
       "</div>"
      ],
      "text/plain": [
       "              timestamp  visitorid        event  itemid  transactionid  \\\n",
       "130 2015-06-01 23:17:56     599528  transaction  356475         4000.0   \n",
       "304 2015-06-01 15:18:20     121688  transaction   15335        11117.0   \n",
       "418 2015-06-01 15:25:15     552148  transaction   81345         5444.0   \n",
       "\n",
       "     category  \n",
       "130       386  \n",
       "304      1098  \n",
       "418      1393  "
      ]
     },
     "execution_count": 193,
     "metadata": {},
     "output_type": "execute_result"
    }
   ],
   "source": [
    "dfcat = join_cat(dfevents, cat_prod)\n",
    "print(dfcat.shape)\n",
    "dfcat.head(3)"
   ]
  },
  {
   "cell_type": "code",
   "execution_count": 70,
   "metadata": {},
   "outputs": [
    {
     "data": {
      "text/plain": [
       "(23838, 6)"
      ]
     },
     "execution_count": 70,
     "metadata": {},
     "output_type": "execute_result"
    }
   ],
   "source": [
    "# dfevents[dfevents['event'] == 'transaction'].shape  # 22547\n",
    "dfcat.drop_duplicates().shape   # 23838\n",
    "# 23838 - 22547 = 1291"
   ]
  },
  {
   "cell_type": "code",
   "execution_count": 71,
   "metadata": {},
   "outputs": [
    {
     "data": {
      "text/html": [
       "<div>\n",
       "<style scoped>\n",
       "    .dataframe tbody tr th:only-of-type {\n",
       "        vertical-align: middle;\n",
       "    }\n",
       "\n",
       "    .dataframe tbody tr th {\n",
       "        vertical-align: top;\n",
       "    }\n",
       "\n",
       "    .dataframe thead th {\n",
       "        text-align: right;\n",
       "    }\n",
       "</style>\n",
       "<table border=\"1\" class=\"dataframe\">\n",
       "  <thead>\n",
       "    <tr style=\"text-align: right;\">\n",
       "      <th></th>\n",
       "      <th>timestamp</th>\n",
       "      <th>visitorid</th>\n",
       "      <th>event</th>\n",
       "      <th>itemid</th>\n",
       "      <th>transactionid</th>\n",
       "      <th>category</th>\n",
       "    </tr>\n",
       "  </thead>\n",
       "  <tbody>\n",
       "    <tr>\n",
       "      <th>2754886</th>\n",
       "      <td>2015-07-31 13:26:38</td>\n",
       "      <td>972757</td>\n",
       "      <td>transaction</td>\n",
       "      <td>418693</td>\n",
       "      <td>1702.0</td>\n",
       "      <td>774</td>\n",
       "    </tr>\n",
       "    <tr>\n",
       "      <th>2754886</th>\n",
       "      <td>2015-07-31 13:26:38</td>\n",
       "      <td>972757</td>\n",
       "      <td>transaction</td>\n",
       "      <td>418693</td>\n",
       "      <td>1702.0</td>\n",
       "      <td>238</td>\n",
       "    </tr>\n",
       "  </tbody>\n",
       "</table>\n",
       "</div>"
      ],
      "text/plain": [
       "                  timestamp  visitorid        event  itemid  transactionid  \\\n",
       "2754886 2015-07-31 13:26:38     972757  transaction  418693         1702.0   \n",
       "2754886 2015-07-31 13:26:38     972757  transaction  418693         1702.0   \n",
       "\n",
       "         category  \n",
       "2754886       774  \n",
       "2754886       238  "
      ]
     },
     "execution_count": 71,
     "metadata": {},
     "output_type": "execute_result"
    }
   ],
   "source": [
    "# so why is the joined DF longer now??\n",
    "# perhaps transaction events are being duplicated\n",
    "# check index 2754886 to see duplicates\n",
    "# dfcat.index.duplicated\n",
    "dfcat[dfcat.index == 2754886].drop_duplicates()"
   ]
  },
  {
   "cell_type": "code",
   "execution_count": 97,
   "metadata": {},
   "outputs": [
    {
     "data": {
      "text/plain": [
       "<matplotlib.axes._subplots.AxesSubplot at 0x7f1f50657f90>"
      ]
     },
     "execution_count": 97,
     "metadata": {},
     "output_type": "execute_result"
    },
    {
     "data": {
      "image/png": "[encoded data removed]",
      "text/plain": [
       "<Figure size 648x288 with 1 Axes>"
      ]
     },
     "metadata": {
      "needs_background": "light"
     },
     "output_type": "display_data"
    }
   ],
   "source": [
    "# dfcat['category'].value_counts().plot(kind='hist', bins=20, log=False)\n",
    "dfcat['category'].value_counts()[5:].plot(kind='bar', figsize=(9,4))"
   ]
  },
  {
   "cell_type": "code",
   "execution_count": 111,
   "metadata": {},
   "outputs": [
    {
     "data": {
      "text/html": [
       "<div>\n",
       "<style scoped>\n",
       "    .dataframe tbody tr th:only-of-type {\n",
       "        vertical-align: middle;\n",
       "    }\n",
       "\n",
       "    .dataframe tbody tr th {\n",
       "        vertical-align: top;\n",
       "    }\n",
       "\n",
       "    .dataframe thead th {\n",
       "        text-align: right;\n",
       "    }\n",
       "</style>\n",
       "<table border=\"1\" class=\"dataframe\">\n",
       "  <thead>\n",
       "    <tr style=\"text-align: right;\">\n",
       "      <th></th>\n",
       "      <th>timestamp</th>\n",
       "      <th>visitorid</th>\n",
       "      <th>event</th>\n",
       "      <th>itemid</th>\n",
       "      <th>transactionid</th>\n",
       "      <th>category</th>\n",
       "    </tr>\n",
       "  </thead>\n",
       "  <tbody>\n",
       "    <tr>\n",
       "      <th>1465072</th>\n",
       "      <td>2015-05-02 21:27:21</td>\n",
       "      <td>869008</td>\n",
       "      <td>transaction</td>\n",
       "      <td>40685</td>\n",
       "      <td>9765.0</td>\n",
       "      <td>1542</td>\n",
       "    </tr>\n",
       "    <tr>\n",
       "      <th>1463096</th>\n",
       "      <td>2015-05-02 21:35:01</td>\n",
       "      <td>345781</td>\n",
       "      <td>transaction</td>\n",
       "      <td>438400</td>\n",
       "      <td>1016.0</td>\n",
       "      <td>-1</td>\n",
       "    </tr>\n",
       "    <tr>\n",
       "      <th>1464289</th>\n",
       "      <td>2015-05-02 22:01:47</td>\n",
       "      <td>586756</td>\n",
       "      <td>transaction</td>\n",
       "      <td>440917</td>\n",
       "      <td>10942.0</td>\n",
       "      <td>1415</td>\n",
       "    </tr>\n",
       "    <tr>\n",
       "      <th>1463462</th>\n",
       "      <td>2015-05-02 22:07:38</td>\n",
       "      <td>435495</td>\n",
       "      <td>transaction</td>\n",
       "      <td>175893</td>\n",
       "      <td>6173.0</td>\n",
       "      <td>1244</td>\n",
       "    </tr>\n",
       "    <tr>\n",
       "      <th>1464041</th>\n",
       "      <td>2015-05-02 22:31:14</td>\n",
       "      <td>266417</td>\n",
       "      <td>transaction</td>\n",
       "      <td>301359</td>\n",
       "      <td>12546.0</td>\n",
       "      <td>470</td>\n",
       "    </tr>\n",
       "  </tbody>\n",
       "</table>\n",
       "</div>"
      ],
      "text/plain": [
       "                  timestamp  visitorid        event  itemid  transactionid  \\\n",
       "1465072 2015-05-02 21:27:21     869008  transaction   40685         9765.0   \n",
       "1463096 2015-05-02 21:35:01     345781  transaction  438400         1016.0   \n",
       "1464289 2015-05-02 22:01:47     586756  transaction  440917        10942.0   \n",
       "1463462 2015-05-02 22:07:38     435495  transaction  175893         6173.0   \n",
       "1464041 2015-05-02 22:31:14     266417  transaction  301359        12546.0   \n",
       "\n",
       "         category  \n",
       "1465072      1542  \n",
       "1463096        -1  \n",
       "1464289      1415  \n",
       "1463462      1244  \n",
       "1464041       470  "
      ]
     },
     "execution_count": 111,
     "metadata": {},
     "output_type": "execute_result"
    }
   ],
   "source": [
    "dfcat['category'].nunique()  # 752 out of 1242\n",
    "top6cat = list(dfcat['category'].value_counts().index[[0,1,3,4,5,6]])\n",
    "dfcat['category'].value_counts()[:10]"
   ]
  },
  {
   "cell_type": "code",
   "execution_count": 208,
   "metadata": {},
   "outputs": [],
   "source": [
    "def cat2day(dfcat, cat_int, fb=False):\n",
    "    \"\"\"takes dfcat 23838 and outputs daily purchases DF\n",
    "    cat_int to only count that category\n",
    "    \"\"\"\n",
    "    # filter category\n",
    "    dfcat = dfcat[dfcat['category'] == cat_int].sort_values('timestamp')\n",
    "    # rename for working with FB prophet\n",
    "    dfcat.rename(columns={'timestamp':'ds'}, inplace=True)\n",
    "    dfcat.rename(columns={'event':'y'}, inplace=True)\n",
    "    # select columns for easier AGG\n",
    "#     col_sel = ['ds', 'visitorid', 'itemid', 'category', 'event']\n",
    "    col_sel = ['ds', 'y', 'category']\n",
    "    dfcat = dfcat[col_sel]\n",
    "    \n",
    "    # resample to daily frequency and count transactions\n",
    "    dfday = dfcat.resample('D', on=\"ds\").count()\n",
    "    # reset category to be correct\n",
    "    dfday['category'] = cat_int    \n",
    "    # make and join 139 df to pad missing head and tail\n",
    "    dr = pd.date_range(start='2015-05-02', end='2015-09-17', freq='D')\n",
    "    dfmake = pd.DataFrame(index=dr)\n",
    "    dfmake = dfmake.join(dfday)\n",
    "    dfmake['category'] = cat_int\n",
    "    dfmake['y'] = dfmake['y'].fillna(0)\n",
    "    dfmake['ds'] = dfmake['ds'].fillna(0)\n",
    "    dfmake = dfmake.astype('int32')\n",
    "\n",
    "    if fb:  # make ds, y format for FB\n",
    "        dfmake = dfmake[['y']].reset_index().rename(columns={'index': 'ds'})\n",
    "\n",
    "    # remove partial days ( from 139 rows to 137 )\n",
    "    dfmake = dfmake.iloc[1:-1]\n",
    "    return dfmake"
   ]
  },
  {
   "cell_type": "code",
   "execution_count": 222,
   "metadata": {},
   "outputs": [
    {
     "name": "stdout",
     "output_type": "stream",
     "text": [
      "959 (137, 3) 5\n",
      "1051 (137, 3) 5\n",
      "1483 (137, 3) 14\n",
      "196 (137, 3) 26\n",
      "1542 (137, 3) 26\n",
      "618 (137, 3) 35\n"
     ]
    }
   ],
   "source": [
    "for cat in top6cat:\n",
    "    dftest = cat2day(dfcat, cat)\n",
    "    num_zero = dftest[dftest['y'] == 0].shape[0]\n",
    "    print(cat, dftest.shape, num_zero)\n",
    "# tested because was at first cutting off days at beginning and end"
   ]
  },
  {
   "cell_type": "code",
   "execution_count": 211,
   "metadata": {},
   "outputs": [
    {
     "name": "stdout",
     "output_type": "stream",
     "text": [
      "(137, 2)\n"
     ]
    },
    {
     "data": {
      "text/html": [
       "<div>\n",
       "<style scoped>\n",
       "    .dataframe tbody tr th:only-of-type {\n",
       "        vertical-align: middle;\n",
       "    }\n",
       "\n",
       "    .dataframe tbody tr th {\n",
       "        vertical-align: top;\n",
       "    }\n",
       "\n",
       "    .dataframe thead th {\n",
       "        text-align: right;\n",
       "    }\n",
       "</style>\n",
       "<table border=\"1\" class=\"dataframe\">\n",
       "  <thead>\n",
       "    <tr style=\"text-align: right;\">\n",
       "      <th></th>\n",
       "      <th>ds</th>\n",
       "      <th>y</th>\n",
       "    </tr>\n",
       "  </thead>\n",
       "  <tbody>\n",
       "    <tr>\n",
       "      <th>1</th>\n",
       "      <td>2015-05-03</td>\n",
       "      <td>5</td>\n",
       "    </tr>\n",
       "    <tr>\n",
       "      <th>2</th>\n",
       "      <td>2015-05-04</td>\n",
       "      <td>12</td>\n",
       "    </tr>\n",
       "  </tbody>\n",
       "</table>\n",
       "</div>"
      ],
      "text/plain": [
       "          ds   y\n",
       "1 2015-05-03   5\n",
       "2 2015-05-04  12"
      ]
     },
     "execution_count": 211,
     "metadata": {},
     "output_type": "execute_result"
    }
   ],
   "source": [
    "# 2015-05-02 first date in events\n",
    "# 2015-09-17 last date in events\n",
    "dftest = cat2day(dfcat, 1483, fb=True)\n",
    "print(dftest.shape)\n",
    "dftest.head(2)"
   ]
  },
  {
   "cell_type": "code",
   "execution_count": 116,
   "metadata": {},
   "outputs": [
    {
     "data": {
      "text/html": [
       "<div>\n",
       "<style scoped>\n",
       "    .dataframe tbody tr th:only-of-type {\n",
       "        vertical-align: middle;\n",
       "    }\n",
       "\n",
       "    .dataframe tbody tr th {\n",
       "        vertical-align: top;\n",
       "    }\n",
       "\n",
       "    .dataframe thead th {\n",
       "        text-align: right;\n",
       "    }\n",
       "</style>\n",
       "<table border=\"1\" class=\"dataframe\">\n",
       "  <thead>\n",
       "    <tr style=\"text-align: right;\">\n",
       "      <th></th>\n",
       "      <th>timestamp</th>\n",
       "      <th>visitorid</th>\n",
       "      <th>event</th>\n",
       "      <th>itemid</th>\n",
       "      <th>transactionid</th>\n",
       "      <th>category</th>\n",
       "    </tr>\n",
       "  </thead>\n",
       "  <tbody>\n",
       "    <tr>\n",
       "      <th>1465072</th>\n",
       "      <td>2015-05-02 21:27:21</td>\n",
       "      <td>869008</td>\n",
       "      <td>transaction</td>\n",
       "      <td>40685</td>\n",
       "      <td>9765.0</td>\n",
       "      <td>1542</td>\n",
       "    </tr>\n",
       "    <tr>\n",
       "      <th>1463096</th>\n",
       "      <td>2015-05-02 21:35:01</td>\n",
       "      <td>345781</td>\n",
       "      <td>transaction</td>\n",
       "      <td>438400</td>\n",
       "      <td>1016.0</td>\n",
       "      <td>-1</td>\n",
       "    </tr>\n",
       "    <tr>\n",
       "      <th>1464289</th>\n",
       "      <td>2015-05-02 22:01:47</td>\n",
       "      <td>586756</td>\n",
       "      <td>transaction</td>\n",
       "      <td>440917</td>\n",
       "      <td>10942.0</td>\n",
       "      <td>1415</td>\n",
       "    </tr>\n",
       "  </tbody>\n",
       "</table>\n",
       "</div>"
      ],
      "text/plain": [
       "                  timestamp  visitorid        event  itemid  transactionid  \\\n",
       "1465072 2015-05-02 21:27:21     869008  transaction   40685         9765.0   \n",
       "1463096 2015-05-02 21:35:01     345781  transaction  438400         1016.0   \n",
       "1464289 2015-05-02 22:01:47     586756  transaction  440917        10942.0   \n",
       "\n",
       "         category  \n",
       "1465072      1542  \n",
       "1463096        -1  \n",
       "1464289      1415  "
      ]
     },
     "execution_count": 116,
     "metadata": {},
     "output_type": "execute_result"
    }
   ],
   "source": [
    "dfcat.sort_values('timestamp')[:3]"
   ]
  },
  {
   "cell_type": "code",
   "execution_count": 117,
   "metadata": {},
   "outputs": [
    {
     "data": {
      "text/html": [
       "<div>\n",
       "<style scoped>\n",
       "    .dataframe tbody tr th:only-of-type {\n",
       "        vertical-align: middle;\n",
       "    }\n",
       "\n",
       "    .dataframe tbody tr th {\n",
       "        vertical-align: top;\n",
       "    }\n",
       "\n",
       "    .dataframe thead th {\n",
       "        text-align: right;\n",
       "    }\n",
       "</style>\n",
       "<table border=\"1\" class=\"dataframe\">\n",
       "  <thead>\n",
       "    <tr style=\"text-align: right;\">\n",
       "      <th></th>\n",
       "      <th>timestamp</th>\n",
       "      <th>visitorid</th>\n",
       "      <th>event</th>\n",
       "      <th>itemid</th>\n",
       "      <th>transactionid</th>\n",
       "      <th>category</th>\n",
       "    </tr>\n",
       "  </thead>\n",
       "  <tbody>\n",
       "    <tr>\n",
       "      <th>1462449</th>\n",
       "      <td>2015-09-17 20:08:16</td>\n",
       "      <td>152963</td>\n",
       "      <td>transaction</td>\n",
       "      <td>122984</td>\n",
       "      <td>5772.0</td>\n",
       "      <td>1493</td>\n",
       "    </tr>\n",
       "    <tr>\n",
       "      <th>1456772</th>\n",
       "      <td>2015-09-17 20:38:18</td>\n",
       "      <td>152963</td>\n",
       "      <td>transaction</td>\n",
       "      <td>362697</td>\n",
       "      <td>5670.0</td>\n",
       "      <td>1663</td>\n",
       "    </tr>\n",
       "    <tr>\n",
       "      <th>1454084</th>\n",
       "      <td>2015-09-17 20:43:12</td>\n",
       "      <td>152963</td>\n",
       "      <td>transaction</td>\n",
       "      <td>21970</td>\n",
       "      <td>8904.0</td>\n",
       "      <td>1051</td>\n",
       "    </tr>\n",
       "  </tbody>\n",
       "</table>\n",
       "</div>"
      ],
      "text/plain": [
       "                  timestamp  visitorid        event  itemid  transactionid  \\\n",
       "1462449 2015-09-17 20:08:16     152963  transaction  122984         5772.0   \n",
       "1456772 2015-09-17 20:38:18     152963  transaction  362697         5670.0   \n",
       "1454084 2015-09-17 20:43:12     152963  transaction   21970         8904.0   \n",
       "\n",
       "         category  \n",
       "1462449      1493  \n",
       "1456772      1663  \n",
       "1454084      1051  "
      ]
     },
     "execution_count": 117,
     "metadata": {},
     "output_type": "execute_result"
    }
   ],
   "source": [
    "dfcat.sort_values('timestamp')[-3:]"
   ]
  },
  {
   "cell_type": "code",
   "execution_count": 160,
   "metadata": {},
   "outputs": [],
   "source": [
    "    # example\n",
    "    # df.groupby(['name', pd.Grouper(key='date', freq='M')])['ext price'].sum()"
   ]
  },
  {
   "cell_type": "code",
   "execution_count": 171,
   "metadata": {},
   "outputs": [
    {
     "data": {
      "text/plain": [
       "category  timestamp \n",
       "1694      2015-09-01    1\n",
       "          2015-09-07    1\n",
       "          2015-09-09    2\n",
       "          2015-09-10    3\n",
       "          2015-09-14    1\n",
       "Name: event, dtype: int64"
      ]
     },
     "execution_count": 171,
     "metadata": {},
     "output_type": "execute_result"
    }
   ],
   "source": [
    "fancy = dfcat.groupby(['category', pd.Grouper(key='timestamp', \n",
    "                                              freq=\"D\")])['event'].count()\n",
    "fancy.tail()  # fancy is a series"
   ]
  },
  {
   "cell_type": "code",
   "execution_count": 172,
   "metadata": {},
   "outputs": [
    {
     "name": "stdout",
     "output_type": "stream",
     "text": [
      "['category', 'timestamp']\n"
     ]
    },
    {
     "data": {
      "text/plain": [
       "Timestamp('2015-05-03 00:00:00')"
      ]
     },
     "execution_count": 172,
     "metadata": {},
     "output_type": "execute_result"
    }
   ],
   "source": [
    "# 1483\n",
    "# mask = fancy.loc[['category']] == 1483\n",
    "print(fancy.index.names)\n",
    "type(fancy.xs(1483))  # xs selects a series\n",
    "len(fancy.xs(1483))\n",
    "fancy.xs(1483).index[0]\n",
    "# series is still to short. this doesn't help me :(((("
   ]
  },
  {
   "cell_type": "code",
   "execution_count": 176,
   "metadata": {},
   "outputs": [
    {
     "data": {
      "text/plain": [
       "DatetimeIndex(['2015-05-02', '2015-05-03', '2015-05-04', '2015-05-05',\n",
       "               '2015-05-06', '2015-05-07', '2015-05-08', '2015-05-09',\n",
       "               '2015-05-10', '2015-05-11',\n",
       "               ...\n",
       "               '2015-09-08', '2015-09-09', '2015-09-10', '2015-09-11',\n",
       "               '2015-09-12', '2015-09-13', '2015-09-14', '2015-09-15',\n",
       "               '2015-09-16', '2015-09-17'],\n",
       "              dtype='datetime64[ns]', length=139, freq='D')"
      ]
     },
     "execution_count": 176,
     "metadata": {},
     "output_type": "execute_result"
    }
   ],
   "source": [
    "# 2015-05-02 first date in events\n",
    "# 2015-09-17 last date in events\n",
    "dr = pd.date_range(start='2015-05-02', end='2015-09-17', freq='D') # size is 139\n",
    "dr"
   ]
  },
  {
   "cell_type": "code",
   "execution_count": 181,
   "metadata": {},
   "outputs": [
    {
     "data": {
      "text/html": [
       "<div>\n",
       "<style scoped>\n",
       "    .dataframe tbody tr th:only-of-type {\n",
       "        vertical-align: middle;\n",
       "    }\n",
       "\n",
       "    .dataframe tbody tr th {\n",
       "        vertical-align: top;\n",
       "    }\n",
       "\n",
       "    .dataframe thead th {\n",
       "        text-align: right;\n",
       "    }\n",
       "</style>\n",
       "<table border=\"1\" class=\"dataframe\">\n",
       "  <thead>\n",
       "    <tr style=\"text-align: right;\">\n",
       "      <th></th>\n",
       "      <th>ds</th>\n",
       "      <th>category</th>\n",
       "      <th>y</th>\n",
       "    </tr>\n",
       "    <tr>\n",
       "      <th>ds</th>\n",
       "      <th></th>\n",
       "      <th></th>\n",
       "      <th></th>\n",
       "    </tr>\n",
       "  </thead>\n",
       "  <tbody>\n",
       "    <tr>\n",
       "      <th>2015-05-03</th>\n",
       "      <td>2</td>\n",
       "      <td>618</td>\n",
       "      <td>2</td>\n",
       "    </tr>\n",
       "    <tr>\n",
       "      <th>2015-05-04</th>\n",
       "      <td>3</td>\n",
       "      <td>618</td>\n",
       "      <td>3</td>\n",
       "    </tr>\n",
       "  </tbody>\n",
       "</table>\n",
       "</div>"
      ],
      "text/plain": [
       "            ds  category  y\n",
       "ds                         \n",
       "2015-05-03   2       618  2\n",
       "2015-05-04   3       618  3"
      ]
     },
     "execution_count": 181,
     "metadata": {},
     "output_type": "execute_result"
    }
   ],
   "source": [
    "dftest.head(2)"
   ]
  },
  {
   "cell_type": "code",
   "execution_count": 192,
   "metadata": {},
   "outputs": [
    {
     "data": {
      "text/html": [
       "<div>\n",
       "<style scoped>\n",
       "    .dataframe tbody tr th:only-of-type {\n",
       "        vertical-align: middle;\n",
       "    }\n",
       "\n",
       "    .dataframe tbody tr th {\n",
       "        vertical-align: top;\n",
       "    }\n",
       "\n",
       "    .dataframe thead th {\n",
       "        text-align: right;\n",
       "    }\n",
       "</style>\n",
       "<table border=\"1\" class=\"dataframe\">\n",
       "  <thead>\n",
       "    <tr style=\"text-align: right;\">\n",
       "      <th></th>\n",
       "      <th>ds</th>\n",
       "      <th>y</th>\n",
       "      <th>category</th>\n",
       "    </tr>\n",
       "  </thead>\n",
       "  <tbody>\n",
       "    <tr>\n",
       "      <th>2015-05-02</th>\n",
       "      <td>0</td>\n",
       "      <td>0</td>\n",
       "      <td>618</td>\n",
       "    </tr>\n",
       "    <tr>\n",
       "      <th>2015-05-03</th>\n",
       "      <td>0</td>\n",
       "      <td>0</td>\n",
       "      <td>618</td>\n",
       "    </tr>\n",
       "    <tr>\n",
       "      <th>2015-05-04</th>\n",
       "      <td>12</td>\n",
       "      <td>12</td>\n",
       "      <td>1483</td>\n",
       "    </tr>\n",
       "    <tr>\n",
       "      <th>2015-05-05</th>\n",
       "      <td>7</td>\n",
       "      <td>7</td>\n",
       "      <td>1483</td>\n",
       "    </tr>\n",
       "    <tr>\n",
       "      <th>2015-05-06</th>\n",
       "      <td>12</td>\n",
       "      <td>12</td>\n",
       "      <td>1483</td>\n",
       "    </tr>\n",
       "    <tr>\n",
       "      <th>...</th>\n",
       "      <td>...</td>\n",
       "      <td>...</td>\n",
       "      <td>...</td>\n",
       "    </tr>\n",
       "    <tr>\n",
       "      <th>2015-09-13</th>\n",
       "      <td>2</td>\n",
       "      <td>2</td>\n",
       "      <td>1483</td>\n",
       "    </tr>\n",
       "    <tr>\n",
       "      <th>2015-09-14</th>\n",
       "      <td>6</td>\n",
       "      <td>6</td>\n",
       "      <td>1483</td>\n",
       "    </tr>\n",
       "    <tr>\n",
       "      <th>2015-09-15</th>\n",
       "      <td>2</td>\n",
       "      <td>2</td>\n",
       "      <td>1483</td>\n",
       "    </tr>\n",
       "    <tr>\n",
       "      <th>2015-09-16</th>\n",
       "      <td>0</td>\n",
       "      <td>0</td>\n",
       "      <td>618</td>\n",
       "    </tr>\n",
       "    <tr>\n",
       "      <th>2015-09-17</th>\n",
       "      <td>0</td>\n",
       "      <td>0</td>\n",
       "      <td>618</td>\n",
       "    </tr>\n",
       "  </tbody>\n",
       "</table>\n",
       "<p>139 rows × 3 columns</p>\n",
       "</div>"
      ],
      "text/plain": [
       "            ds   y  category\n",
       "2015-05-02   0   0       618\n",
       "2015-05-03   0   0       618\n",
       "2015-05-04  12  12      1483\n",
       "2015-05-05   7   7      1483\n",
       "2015-05-06  12  12      1483\n",
       "...         ..  ..       ...\n",
       "2015-09-13   2   2      1483\n",
       "2015-09-14   6   6      1483\n",
       "2015-09-15   2   2      1483\n",
       "2015-09-16   0   0       618\n",
       "2015-09-17   0   0       618\n",
       "\n",
       "[139 rows x 3 columns]"
      ]
     },
     "execution_count": 192,
     "metadata": {},
     "output_type": "execute_result"
    }
   ],
   "source": [
    "dfmake = pd.DataFrame(index=dr)\n",
    "# dfcat = dfevents.join(cat_prod.set_index('itemid'), on='itemid')\n",
    "dfmake = dfmake.join(dftest)\n",
    "dfmake['category'] = dfmake['category'].fillna(618)\n",
    "dfmake['y'] = dfmake['y'].fillna(0)\n",
    "dfmake['ds'] = dfmake['ds'].fillna(0)\n",
    "dfmake = dfmake.astype('int32')\n",
    "dfmake"
   ]
  },
  {
   "cell_type": "code",
   "execution_count": 186,
   "metadata": {},
   "outputs": [
    {
     "data": {
      "text/html": [
       "<div>\n",
       "<style scoped>\n",
       "    .dataframe tbody tr th:only-of-type {\n",
       "        vertical-align: middle;\n",
       "    }\n",
       "\n",
       "    .dataframe tbody tr th {\n",
       "        vertical-align: top;\n",
       "    }\n",
       "\n",
       "    .dataframe thead th {\n",
       "        text-align: right;\n",
       "    }\n",
       "</style>\n",
       "<table border=\"1\" class=\"dataframe\">\n",
       "  <thead>\n",
       "    <tr style=\"text-align: right;\">\n",
       "      <th></th>\n",
       "      <th>ds</th>\n",
       "      <th>y</th>\n",
       "    </tr>\n",
       "  </thead>\n",
       "  <tbody>\n",
       "    <tr>\n",
       "      <th>0</th>\n",
       "      <td>2015-05-02</td>\n",
       "      <td>0</td>\n",
       "    </tr>\n",
       "    <tr>\n",
       "      <th>1</th>\n",
       "      <td>2015-05-03</td>\n",
       "      <td>2</td>\n",
       "    </tr>\n",
       "    <tr>\n",
       "      <th>2</th>\n",
       "      <td>2015-05-04</td>\n",
       "      <td>3</td>\n",
       "    </tr>\n",
       "    <tr>\n",
       "      <th>3</th>\n",
       "      <td>2015-05-05</td>\n",
       "      <td>5</td>\n",
       "    </tr>\n",
       "    <tr>\n",
       "      <th>4</th>\n",
       "      <td>2015-05-06</td>\n",
       "      <td>7</td>\n",
       "    </tr>\n",
       "    <tr>\n",
       "      <th>...</th>\n",
       "      <td>...</td>\n",
       "      <td>...</td>\n",
       "    </tr>\n",
       "    <tr>\n",
       "      <th>134</th>\n",
       "      <td>2015-09-13</td>\n",
       "      <td>0</td>\n",
       "    </tr>\n",
       "    <tr>\n",
       "      <th>135</th>\n",
       "      <td>2015-09-14</td>\n",
       "      <td>4</td>\n",
       "    </tr>\n",
       "    <tr>\n",
       "      <th>136</th>\n",
       "      <td>2015-09-15</td>\n",
       "      <td>3</td>\n",
       "    </tr>\n",
       "    <tr>\n",
       "      <th>137</th>\n",
       "      <td>2015-09-16</td>\n",
       "      <td>2</td>\n",
       "    </tr>\n",
       "    <tr>\n",
       "      <th>138</th>\n",
       "      <td>2015-09-17</td>\n",
       "      <td>0</td>\n",
       "    </tr>\n",
       "  </tbody>\n",
       "</table>\n",
       "<p>139 rows × 2 columns</p>\n",
       "</div>"
      ],
      "text/plain": [
       "            ds  y\n",
       "0   2015-05-02  0\n",
       "1   2015-05-03  2\n",
       "2   2015-05-04  3\n",
       "3   2015-05-05  5\n",
       "4   2015-05-06  7\n",
       "..         ... ..\n",
       "134 2015-09-13  0\n",
       "135 2015-09-14  4\n",
       "136 2015-09-15  3\n",
       "137 2015-09-16  2\n",
       "138 2015-09-17  0\n",
       "\n",
       "[139 rows x 2 columns]"
      ]
     },
     "execution_count": 186,
     "metadata": {},
     "output_type": "execute_result"
    }
   ],
   "source": [
    "dfmake[['y']].reset_index().rename(columns={'index': 'ds'})"
   ]
  },
  {
   "cell_type": "code",
   "execution_count": 221,
   "metadata": {},
   "outputs": [
    {
     "data": {
      "text/plain": [
       "(35, 3)"
      ]
     },
     "execution_count": 221,
     "metadata": {},
     "output_type": "execute_result"
    }
   ],
   "source": [
    "dftest[dftest['y'] == 0].shape"
   ]
  },
  {
   "cell_type": "code",
   "execution_count": null,
   "metadata": {},
   "outputs": [],
   "source": []
  }
 ],
 "metadata": {
  "kernelspec": {
   "display_name": "Python 3",
   "language": "python",
   "name": "python3"
  },
  "language_info": {
   "codemirror_mode": {
    "name": "ipython",
    "version": 3
   },
   "file_extension": ".py",
   "mimetype": "text/x-python",
   "name": "python",
   "nbconvert_exporter": "python",
   "pygments_lexer": "ipython3",
   "version": "3.7.6"
  }
 },
 "nbformat": 4,
 "nbformat_minor": 4
}
