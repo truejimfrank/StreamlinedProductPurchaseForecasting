{
 "cells": [
  {
   "cell_type": "code",
   "execution_count": 1,
   "metadata": {},
   "outputs": [
    {
     "name": "stderr",
     "output_type": "stream",
     "text": [
      "Importing plotly failed. Interactive plots will not work.\n"
     ]
    }
   ],
   "source": [
    "import pandas as pd\n",
    "import numpy as np\n",
    "import matplotlib.pyplot as plt\n",
    "import matplotlib\n",
    "import datetime\n",
    "from fbprophet import Prophet"
   ]
  },
  {
   "cell_type": "code",
   "execution_count": 44,
   "metadata": {},
   "outputs": [
    {
     "name": "stdout",
     "output_type": "stream",
     "text": [
      "<class 'pandas.core.frame.DataFrame'>\n",
      "Int64Index: 23838 entries, 1465072 to 1454084\n",
      "Data columns (total 7 columns):\n",
      " #   Column         Non-Null Count  Dtype         \n",
      "---  ------         --------------  -----         \n",
      " 0   timestamp      23838 non-null  datetime64[ns]\n",
      " 1   visitorid      23838 non-null  int64         \n",
      " 2   event          23838 non-null  object        \n",
      " 3   itemid         23838 non-null  int64         \n",
      " 4   transactionid  23838 non-null  float64       \n",
      " 5   category       23838 non-null  int32         \n",
      " 6   parent         23838 non-null  int32         \n",
      "dtypes: datetime64[ns](1), float64(1), int32(2), int64(2), object(1)\n",
      "memory usage: 1.3+ MB\n"
     ]
    }
   ],
   "source": [
    "df = pd.read_pickle('../../data/time_ecom/dfcatparent.pkl', compression='zip')\n",
    "df.info()"
   ]
  },
  {
   "cell_type": "code",
   "execution_count": 45,
   "metadata": {},
   "outputs": [],
   "source": [
    "# for converting to daily frequency\n",
    "def parent2day(df, select_int, par=True, fb=False):\n",
    "    \"\"\"takes DF 23838 with category and parent columns\n",
    "    outputs daily purchases DF\n",
    "    select_int is the desired category or parent to be selected\n",
    "    par=True filters the parent column  //  par=False filters the category column\n",
    "    fb option toggles 'ds' & 'y' output format for FBprophet\n",
    "    \"\"\"\n",
    "    copy = df.copy()\n",
    "    # rename for working with FB prophet\n",
    "    copy.rename(columns={'event':'y'}, inplace=True)\n",
    "    copy.rename(columns={'timestamp':'ds'}, inplace=True)\n",
    "    # filter parent\n",
    "    if par:\n",
    "        copy = copy[copy['parent'] == select_int].sort_values('ds')\n",
    "    # filter category\n",
    "    else:\n",
    "        copy = copy[copy['category'] == select_int].sort_values('ds')\n",
    "    # select columns for easier AGG\n",
    "    copy = copy[['ds', 'y', 'category', 'parent']]\n",
    "    # resample to daily frequency and count transactions\n",
    "    dfday = copy.resample('D', on=\"ds\").count() \n",
    "    # make and join 139 df to pad missing head and tail\n",
    "    dr = pd.date_range(start='2015-05-02', end='2015-09-17', freq='D')\n",
    "    dfmake = pd.DataFrame(index=dr)\n",
    "    dfmake = dfmake.join(dfday)\n",
    "    # reset category/parent to be correct\n",
    "    if par:\n",
    "        dfmake['parent'] = select_int\n",
    "    else:\n",
    "        dfmake['category'] = select_int\n",
    "    dfmake = dfmake.fillna(0)\n",
    "    dfmake = dfmake.astype('int32')  #  the join made values floats\n",
    "    # make ds, y format for FB\n",
    "    if fb:  \n",
    "        dfmake = dfmake[['y']].reset_index().rename(columns={'index': 'ds'})\n",
    "    # remove partial days ( from 139 rows to 137 )\n",
    "    dfmake = dfmake.iloc[1:-1]\n",
    "    return dfmake.copy()"
   ]
  },
  {
   "cell_type": "code",
   "execution_count": 46,
   "metadata": {},
   "outputs": [],
   "source": [
    "def train_prophet(df):\n",
    "    m = Prophet(changepoint_prior_scale=0.05)\n",
    "    return m.fit(df)\n",
    "\n",
    "def predict_horizon(m, horizon=28):\n",
    "    # dffuture has 'ds' column only\n",
    "    dffuture = m.make_future_dataframe(periods=horizon)\n",
    "    dfforecast = m.predict(dffuture)\n",
    "    \"\"\" fb forecast columns\n",
    "        ['ds', 'trend', 'yhat_lower', 'yhat_upper', 'trend_lower',\n",
    "       'trend_upper', 'additive_terms', 'additive_terms_lower',\n",
    "       'additive_terms_upper', 'weekly', 'weekly_lower', 'weekly_upper',\n",
    "       'multiplicative_terms', 'multiplicative_terms_lower',\n",
    "       'multiplicative_terms_upper', 'yhat']\"\"\"\n",
    "    y_hat = dfforecast.iloc[-horizon: , -1].values\n",
    "    return y_hat\n",
    "\n",
    "def mape(y_true, y_pred):\n",
    "    # mean absolute percent error\n",
    "    return np.mean(np.abs((y_true - y_pred) / y_true)) * 100."
   ]
  },
  {
   "cell_type": "code",
   "execution_count": 47,
   "metadata": {},
   "outputs": [],
   "source": [
    "def daily_df_dict(df, id_array):\n",
    "    df_dict = {}\n",
    "    for parent in id_array:\n",
    "        df_dict[parent] = parent2day(df, parent, par=True, fb=True)\n",
    "    return df_dict\n",
    "\n",
    "def shf_error(train_dict, shf_period=-28):\n",
    "    error_dict = {}\n",
    "    for parent, df in train_dict.items():\n",
    "        y_true = df.iloc[shf_period, -1]\n",
    "        m = train_prophet(df[shf_period:])\n",
    "        dftime = df[['ds']]\n",
    "        forecast = m.predict(dftime)\n",
    "        y_hat = forecast.iloc[shf_period, -1]\n",
    "        error_dict[parent] = mape(y_true, y_hat)\n",
    "    return error_dict"
   ]
  },
  {
   "cell_type": "code",
   "execution_count": 34,
   "metadata": {},
   "outputs": [],
   "source": [
    "topparent = np.array([561, 955, 105, 500, 1095, 805])\n",
    "df['parent'].nunique()  # 236 \n",
    "parent_counts = df['parent'].value_counts()"
   ]
  },
  {
   "cell_type": "code",
   "execution_count": 35,
   "metadata": {},
   "outputs": [
    {
     "data": {
      "text/plain": [
       "37"
      ]
     },
     "execution_count": 35,
     "metadata": {},
     "output_type": "execute_result"
    }
   ],
   "source": [
    "parent_counts[parent_counts > 200].size"
   ]
  },
  {
   "cell_type": "code",
   "execution_count": 50,
   "metadata": {},
   "outputs": [],
   "source": [
    "train_dict = daily_df_dict(df[:-28], topparent)"
   ]
  },
  {
   "cell_type": "code",
   "execution_count": 51,
   "metadata": {},
   "outputs": [
    {
     "name": "stdout",
     "output_type": "stream",
     "text": [
      "6\n"
     ]
    },
    {
     "data": {
      "text/plain": [
       "(28, 2)"
      ]
     },
     "execution_count": 51,
     "metadata": {},
     "output_type": "execute_result"
    }
   ],
   "source": [
    "print(len(train_dict))\n",
    "train_dict[500][-28:].shape"
   ]
  },
  {
   "cell_type": "code",
   "execution_count": null,
   "metadata": {},
   "outputs": [],
   "source": [
    "first_errors = shf_error(train_dict, shf_period=-28)\n",
    "for parent, error in first_errors.items():\n",
    "    print(parent, \"parent  :  mape error\", round(error, 1))\n",
    "# 561 parent  :  mape error 711.4302802002786\n",
    "# 955 parent  :  mape error 70.49148698276977\n",
    "# 105 parent  :  mape error 17.923334238004994\n",
    "# 500 parent  :  mape error 19.175125123610925\n",
    "# 1095 parent  :  mape error 165.30957096914483\n",
    "# 805 parent  :  mape error 51.27614835005032"
   ]
  },
  {
   "cell_type": "code",
   "execution_count": null,
   "metadata": {},
   "outputs": [],
   "source": [
    "# master insight function (daily_df, horizon=28)\n",
    "# { parent : {model: m, } }"
   ]
  },
  {
   "cell_type": "code",
   "execution_count": null,
   "metadata": {},
   "outputs": [],
   "source": [
    "# startup examples\n",
    "Class PurchaseForecast(object):\n",
    "    \n",
    "    def __init__(self, modelFile = None):\n",
    "        self.model = Word2Vec.load(modelFile)\n",
    "        \n",
    "    def fit(self, X):\n",
    "        self.max_size = int(len(max(X, key=len)) * .25)\n",
    "        \n",
    "    def _word2idx(self, word):\n",
    "        if word in self.model.wv.vocab:\n",
    "            return self.model.wv.vocab[word].index\n",
    "        return 0"
   ]
  },
  {
   "cell_type": "code",
   "execution_count": null,
   "metadata": {},
   "outputs": [],
   "source": []
  },
  {
   "cell_type": "code",
   "execution_count": null,
   "metadata": {},
   "outputs": [],
   "source": []
  }
 ],
 "metadata": {
  "kernelspec": {
   "display_name": "Python 3",
   "language": "python",
   "name": "python3"
  },
  "language_info": {
   "codemirror_mode": {
    "name": "ipython",
    "version": 3
   },
   "file_extension": ".py",
   "mimetype": "text/x-python",
   "name": "python",
   "nbconvert_exporter": "python",
   "pygments_lexer": "ipython3",
   "version": "3.7.6"
  }
 },
 "nbformat": 4,
 "nbformat_minor": 4
}
